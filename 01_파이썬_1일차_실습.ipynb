{
  "nbformat": 4,
  "nbformat_minor": 0,
  "metadata": {
    "colab": {
      "provenance": [],
      "authorship_tag": "ABX9TyPWw4iNMo9CZjoBRc6UBFGD",
      "include_colab_link": true
    },
    "kernelspec": {
      "name": "python3",
      "display_name": "Python 3"
    },
    "language_info": {
      "name": "python"
    }
  },
  "cells": [
    {
      "cell_type": "markdown",
      "metadata": {
        "id": "view-in-github",
        "colab_type": "text"
      },
      "source": [
        "<a href=\"https://colab.research.google.com/github/wallmeabuffet/bioinfomatics2/blob/main/01_%ED%8C%8C%EC%9D%B4%EC%8D%AC_1%EC%9D%BC%EC%B0%A8_%EC%8B%A4%EC%8A%B5.ipynb\" target=\"_parent\"><img src=\"https://colab.research.google.com/assets/colab-badge.svg\" alt=\"Open In Colab\"/></a>"
      ]
    },
    {
      "cell_type": "markdown",
      "source": [
        "## 파이썬 자료형"
      ],
      "metadata": {
        "id": "KG2AHE3leuAv"
      }
    },
    {
      "cell_type": "code",
      "execution_count": 6,
      "metadata": {
        "colab": {
          "base_uri": "https://localhost:8080/"
        },
        "id": "mUOQoSScda2d",
        "outputId": "ddf76408-cea9-4b8d-c0d5-dff3c16375bf"
      },
      "outputs": [
        {
          "output_type": "stream",
          "name": "stdout",
          "text": [
            "<class 'int'>\n",
            "<class 'float'>\n",
            "<class 'str'>\n"
          ]
        }
      ],
      "source": [
        "# 데이터 형태를 확인해 주는 함수: type()\n",
        "# 화면에 출력해주는 함수 : print()\n",
        "print(type(100))\n",
        "print(type(100.0))\n",
        "print(type('파이썬'))\n",
        "\n"
      ]
    },
    {
      "cell_type": "code",
      "source": [
        "a=100\n",
        "b= 50\n",
        "c= '파이썬'\n",
        "print(a+b)\n",
        "print(c)\n"
      ],
      "metadata": {
        "colab": {
          "base_uri": "https://localhost:8080/"
        },
        "id": "ppZTEJMPgDGV",
        "outputId": "0d2a6972-7711-461c-af56-3f8881c76128"
      },
      "execution_count": 7,
      "outputs": [
        {
          "output_type": "stream",
          "name": "stdout",
          "text": [
            "150\n",
            "파이썬\n"
          ]
        }
      ]
    },
    {
      "cell_type": "code",
      "source": [
        "# 변수명 사용 규칙\n",
        "사과='수박'\n",
        "print(사과)\n"
      ],
      "metadata": {
        "colab": {
          "base_uri": "https://localhost:8080/"
        },
        "id": "Mh8R09k0g6k9",
        "outputId": "7d8af590-3843-4e83-c2f4-186d44532330"
      },
      "execution_count": 8,
      "outputs": [
        {
          "output_type": "stream",
          "name": "stdout",
          "text": [
            "수박\n"
          ]
        }
      ]
    },
    {
      "cell_type": "code",
      "source": [
        "a = 3.14\n",
        "b = 314\n",
        "print(int(a))\n",
        "print(float(b))"
      ],
      "metadata": {
        "colab": {
          "base_uri": "https://localhost:8080/"
        },
        "id": "EPGZRuWnhq1H",
        "outputId": "fc6513b4-ae35-4275-e49d-c81491b48440"
      },
      "execution_count": 9,
      "outputs": [
        {
          "output_type": "stream",
          "name": "stdout",
          "text": [
            "3\n",
            "314.0\n"
          ]
        }
      ]
    },
    {
      "cell_type": "markdown",
      "source": [
        "### 문자열형"
      ],
      "metadata": {
        "id": "gB73mQoqpQW-"
      }
    },
    {
      "cell_type": "code",
      "source": [
        "# +: 문자열을 붙여서 표현한다.\n",
        "print('오늘은' + '파이썬 첫째날!')\n",
        "print('오늘은' , '파이썬 첫째날!')\n"
      ],
      "metadata": {
        "colab": {
          "base_uri": "https://localhost:8080/"
        },
        "id": "oNc6y2FopT6G",
        "outputId": "6424282c-fcc4-4f50-c93d-9ad369567536"
      },
      "execution_count": 11,
      "outputs": [
        {
          "output_type": "stream",
          "name": "stdout",
          "text": [
            "오늘은파이썬 첫째날!\n",
            "오늘은 파이썬 첫째날!\n"
          ]
        }
      ]
    },
    {
      "cell_type": "code",
      "source": [
        "# * : 문자열을 반복한다.\n",
        "print('반짝'*5)\n",
        "print('-'*50)"
      ],
      "metadata": {
        "colab": {
          "base_uri": "https://localhost:8080/"
        },
        "id": "76gK2iNIpxtW",
        "outputId": "12b94289-542b-45c6-a1c6-a88bbf915c85"
      },
      "execution_count": 13,
      "outputs": [
        {
          "output_type": "stream",
          "name": "stdout",
          "text": [
            "반짝반짝반짝반짝반짝\n",
            "--------------------------------------------------\n"
          ]
        }
      ]
    },
    {
      "cell_type": "markdown",
      "source": [
        "#Bool type"
      ],
      "metadata": {
        "id": "PlVk-Nn0qby2"
      }
    },
    {
      "cell_type": "code",
      "source": [
        "# a = True\n",
        "# b = False\n",
        "# print(a,b)\n",
        "\n",
        "a = 100\n",
        "b = 200\n",
        "print(a<b)\n",
        "print(a>b)\n",
        "print(type(a>b))\n"
      ],
      "metadata": {
        "colab": {
          "base_uri": "https://localhost:8080/"
        },
        "id": "f3k4CP_tqgoj",
        "outputId": "b4df865e-57ee-41bd-8d77-bd4d7d8dcdad"
      },
      "execution_count": 18,
      "outputs": [
        {
          "output_type": "stream",
          "name": "stdout",
          "text": [
            "True\n",
            "False\n",
            "<class 'bool'>\n"
          ]
        }
      ]
    },
    {
      "cell_type": "markdown",
      "source": [
        "##파이썬 기본 입출력"
      ],
      "metadata": {
        "id": "vyV_zhsRsn6F"
      }
    },
    {
      "cell_type": "code",
      "source": [
        "# 파이썬으로 사칙연산하기 프로그램\n",
        "a= input('키보드로 입력하세요: ')\n",
        "a=int(a)     #정수로 만들기\n",
        "print('a의 값은: ',a,type(a))\n"
      ],
      "metadata": {
        "colab": {
          "base_uri": "https://localhost:8080/"
        },
        "id": "TiZS1kwcsusm",
        "outputId": "2f88f166-b5c3-47ef-f2cd-cf3522132531"
      },
      "execution_count": 21,
      "outputs": [
        {
          "output_type": "stream",
          "name": "stdout",
          "text": [
            "키보드로 입력하세요: 100\n",
            "a의 값은:  100 <class 'int'>\n"
          ]
        }
      ]
    },
    {
      "cell_type": "code",
      "source": [
        "a=int(input('키보드로 입력하세요: '))\n",
        "print('a의 값은: ',a,type(a))"
      ],
      "metadata": {
        "colab": {
          "base_uri": "https://localhost:8080/"
        },
        "id": "ZPn6yVmJt6nP",
        "outputId": "1832a30d-bd7e-43ed-e8a9-7df5553ebc6c"
      },
      "execution_count": 23,
      "outputs": [
        {
          "output_type": "stream",
          "name": "stdout",
          "text": [
            "키보드로 입력하세요: 1000\n",
            "a의 값은:  1000 <class 'int'>\n"
          ]
        }
      ]
    },
    {
      "cell_type": "code",
      "source": [
        "num1 = int(input('첫 번째 숫자:'))\n",
        "num2 = int(input('두 번째 숫자:'))\n",
        "print('-'*30)\n",
        "print('덧셈: %d + %d= %d' %(num1, num2, num1 + num2 ))\n",
        "print('뺄셈: %d - %d= %d' %(num1, num2, num1 - num2 ))\n",
        "print('곱셈: %d * %d= %d' %(num1, num2, num1 * num2 ))\n",
        "print('나눗셈: %d / %d= %d' %(num1, num2, num1 / num2 ))"
      ],
      "metadata": {
        "colab": {
          "base_uri": "https://localhost:8080/"
        },
        "id": "S67hTgiDuaW5",
        "outputId": "db694025-3adb-4cc2-f7af-3f27c3aa728d"
      },
      "execution_count": 30,
      "outputs": [
        {
          "output_type": "stream",
          "name": "stdout",
          "text": [
            "첫 번째 숫자:200\n",
            "두 번째 숫자:30\n",
            "------------------------------\n",
            "덧셈: 200 + 30= 230\n",
            "뺄셈: 200 - 30= 170\n",
            "곱셈: 200 * 30= 6000\n",
            "나눗셈: 200 / 30= 6\n"
          ]
        }
      ]
    },
    {
      "cell_type": "code",
      "source": [
        "num1 = int(input('첫 번째 숫자:'))\n",
        "num2 = int(input('두 번째 숫자:'))\n",
        "print('-'*30)\n",
        "print(f'덧셈: {num1} + {num2:>3}= {num1+num2}')\n",
        "print(f'뺄셈: {num1} - {num2:0>3}= {num1-num2}')\n",
        "print(f'곱셈: {num1} * {num2}= {num1*num2}')\n",
        "print(f'나눗셈: {num1} / {num2}= {num1/num2}')"
      ],
      "metadata": {
        "colab": {
          "base_uri": "https://localhost:8080/"
        },
        "id": "cBjjo-zGwWJb",
        "outputId": "6b7b5616-8e50-4466-eb0d-3e5e1f54186f"
      },
      "execution_count": 34,
      "outputs": [
        {
          "output_type": "stream",
          "name": "stdout",
          "text": [
            "첫 번째 숫자:200\n",
            "두 번째 숫자:30\n",
            "------------------------------\n",
            "덧셈: 200 +  30= 230\n",
            "뺄셈: 200 - 030= 170\n",
            "곱셈: 200 * 30= 6000\n",
            "나눗셈: 200 / 30= 6.666666666666667\n"
          ]
        }
      ]
    },
    {
      "cell_type": "code",
      "source": [
        "num1 = int(input('속도를 입력해 주세요:'))\n",
        "num2 = int(input('거리를 입력해 주세요:'))\n",
        "print(f'시간: {num1} / {num2}= {num1/num2}')"
      ],
      "metadata": {
        "colab": {
          "base_uri": "https://localhost:8080/"
        },
        "id": "UGg78E-Yyqwr",
        "outputId": "dbefed4d-c8eb-4f58-e405-30ce8b51e409"
      },
      "execution_count": 52,
      "outputs": [
        {
          "output_type": "stream",
          "name": "stdout",
          "text": [
            "속도를 입력해 주세요:200\n",
            "거리를 입력해 주세요:50\n",
            "시간: 200 / 50= 4.0\n"
          ]
        }
      ]
    },
    {
      "cell_type": "code",
      "source": [
        "a=input('정수를 입력하세요:')\n",
        "print(f'{a}+{a+a}+{a+a+a}')\n"
      ],
      "metadata": {
        "colab": {
          "base_uri": "https://localhost:8080/"
        },
        "id": "AAp8QHtp2ydB",
        "outputId": "2ad813a8-ccdd-4cee-da73-0912cdac463e"
      },
      "execution_count": 72,
      "outputs": [
        {
          "output_type": "stream",
          "name": "stdout",
          "text": [
            "정수를 입력하세요:7\n",
            "7+77+777\n"
          ]
        }
      ]
    },
    {
      "cell_type": "code",
      "source": [
        "#eval() : 문자열을 숫자처럼 계산해준다.\n",
        "# ex : eval('3+4')\n",
        "a = input('정수를 입력하세요:')\n",
        "result = f'{a}+{a+a}+{a+a+a}'\n",
        "print(result)\n",
        "print(eval(result))\n",
        "print(f'{result}={eval(result)}')\n",
        "\n"
      ],
      "metadata": {
        "colab": {
          "base_uri": "https://localhost:8080/"
        },
        "id": "iUwMB2xO8CCY",
        "outputId": "419c3053-300f-4a59-8cb6-fb29664112ff"
      },
      "execution_count": 70,
      "outputs": [
        {
          "output_type": "stream",
          "name": "stdout",
          "text": [
            "정수를 입력하세요:7\n",
            "7+77+777\n",
            "861\n",
            "7+77+777=861\n"
          ]
        }
      ]
    }
  ]
}