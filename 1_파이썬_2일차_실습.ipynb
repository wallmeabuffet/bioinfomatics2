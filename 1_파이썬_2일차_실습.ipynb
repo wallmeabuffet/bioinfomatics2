{
  "nbformat": 4,
  "nbformat_minor": 0,
  "metadata": {
    "colab": {
      "provenance": [],
      "authorship_tag": "ABX9TyOUr1QyDBARwuhw2TO6mZ4K",
      "include_colab_link": true
    },
    "kernelspec": {
      "name": "python3",
      "display_name": "Python 3"
    },
    "language_info": {
      "name": "python"
    }
  },
  "cells": [
    {
      "cell_type": "markdown",
      "metadata": {
        "id": "view-in-github",
        "colab_type": "text"
      },
      "source": [
        "<a href=\"https://colab.research.google.com/github/wallmeabuffet/bioinfomatics2/blob/main/1_%ED%8C%8C%EC%9D%B4%EC%8D%AC_2%EC%9D%BC%EC%B0%A8_%EC%8B%A4%EC%8A%B5.ipynb\" target=\"_parent\"><img src=\"https://colab.research.google.com/assets/colab-badge.svg\" alt=\"Open In Colab\"/></a>"
      ]
    },
    {
      "cell_type": "markdown",
      "source": [
        "#Format 함수 이용"
      ],
      "metadata": {
        "id": "CPr3XJWwxvsB"
      }
    },
    {
      "cell_type": "code",
      "execution_count": null,
      "metadata": {
        "colab": {
          "base_uri": "https://localhost:8080/",
          "height": 35
        },
        "id": "lYrvjOX6xroV",
        "outputId": "86fce47a-02e7-44c7-f793-08d49bf56bda"
      },
      "outputs": [
        {
          "output_type": "execute_result",
          "data": {
            "text/plain": [
              "\"I eat 10 apples. So, I'mfull\""
            ],
            "application/vnd.google.colaboratory.intrinsic+json": {
              "type": "string"
            }
          },
          "metadata": {},
          "execution_count": 4
        }
      ],
      "source": [
        "\"I eat {0} apples\".format(3)\n",
        "\n",
        "\"I eat {0} apples\".format(\"five\")\n",
        "\n",
        "number=5\n",
        "\"I eat {0} apples\".format(number)\n",
        "\n",
        "\"I eat {0} apples. So, I'm{1}\".format(10,\"full\")\n",
        "\n",
        "\n"
      ]
    },
    {
      "cell_type": "code",
      "source": [
        "\"{0:<10}\".format(\"파이썬\")"
      ],
      "metadata": {
        "colab": {
          "base_uri": "https://localhost:8080/",
          "height": 35
        },
        "id": "2cbrZLZ0zIUK",
        "outputId": "37f7ddc8-e047-481c-916b-ff1279202d2d"
      },
      "execution_count": null,
      "outputs": [
        {
          "output_type": "execute_result",
          "data": {
            "text/plain": [
              "'파이썬       '"
            ],
            "application/vnd.google.colaboratory.intrinsic+json": {
              "type": "string"
            }
          },
          "metadata": {},
          "execution_count": 5
        }
      ]
    },
    {
      "cell_type": "code",
      "source": [
        "\"{0:>10}\".format(\"파이썬\")"
      ],
      "metadata": {
        "colab": {
          "base_uri": "https://localhost:8080/",
          "height": 35
        },
        "id": "zdJMWC28zRwv",
        "outputId": "afe4cadf-f16a-4314-cdc5-0859cbc7e424"
      },
      "execution_count": null,
      "outputs": [
        {
          "output_type": "execute_result",
          "data": {
            "text/plain": [
              "'       파이썬'"
            ],
            "application/vnd.google.colaboratory.intrinsic+json": {
              "type": "string"
            }
          },
          "metadata": {},
          "execution_count": 6
        }
      ]
    },
    {
      "cell_type": "code",
      "source": [
        "\"{0:*^10}\".format(\"파이썬\")"
      ],
      "metadata": {
        "colab": {
          "base_uri": "https://localhost:8080/",
          "height": 35
        },
        "id": "HOiXYTbhzbhF",
        "outputId": "77fe1493-2a84-4535-8d7b-6de427313c50"
      },
      "execution_count": null,
      "outputs": [
        {
          "output_type": "execute_result",
          "data": {
            "text/plain": [
              "'***파이썬****'"
            ],
            "application/vnd.google.colaboratory.intrinsic+json": {
              "type": "string"
            }
          },
          "metadata": {},
          "execution_count": 7
        }
      ]
    },
    {
      "cell_type": "code",
      "source": [
        "\"{0:0.4f}\".format(3.4213423)"
      ],
      "metadata": {
        "colab": {
          "base_uri": "https://localhost:8080/",
          "height": 35
        },
        "id": "6jpmpNMrz5Dn",
        "outputId": "41452841-38a1-4f1f-c971-eaacc40d214e"
      },
      "execution_count": null,
      "outputs": [
        {
          "output_type": "execute_result",
          "data": {
            "text/plain": [
              "'3.4213'"
            ],
            "application/vnd.google.colaboratory.intrinsic+json": {
              "type": "string"
            }
          },
          "metadata": {},
          "execution_count": 10
        }
      ]
    },
    {
      "cell_type": "markdown",
      "source": [
        "#파이썬 자료형과 연산자\n",
        "##2.문자열 인덱싱&슬라이싱"
      ],
      "metadata": {
        "id": "u9wmkYDe0MxZ"
      }
    },
    {
      "cell_type": "code",
      "source": [
        "str(list(range(1,10001,1))).count('7')"
      ],
      "metadata": {
        "colab": {
          "base_uri": "https://localhost:8080/"
        },
        "id": "Al6rCE9Z0dt5",
        "outputId": "0ef901ff-8b3a-4929-a4df-32b25ff3a4db"
      },
      "execution_count": null,
      "outputs": [
        {
          "output_type": "execute_result",
          "data": {
            "text/plain": [
              "4000"
            ]
          },
          "metadata": {},
          "execution_count": 13
        }
      ]
    },
    {
      "cell_type": "code",
      "source": [
        "a=\",\"\n",
        "a.join('abcd')"
      ],
      "metadata": {
        "colab": {
          "base_uri": "https://localhost:8080/",
          "height": 35
        },
        "id": "IbLIgwHh0-9A",
        "outputId": "0f6bd99d-925f-420c-8391-7bb827ca8da4"
      },
      "execution_count": null,
      "outputs": [
        {
          "output_type": "execute_result",
          "data": {
            "text/plain": [
              "'a,b,c,d'"
            ],
            "application/vnd.google.colaboratory.intrinsic+json": {
              "type": "string"
            }
          },
          "metadata": {},
          "execution_count": 14
        }
      ]
    },
    {
      "cell_type": "code",
      "source": [
        "a=\"!\"\n",
        "a.join(\"파이썬\")"
      ],
      "metadata": {
        "colab": {
          "base_uri": "https://localhost:8080/",
          "height": 35
        },
        "id": "jtOTDyJe3PVy",
        "outputId": "512fbedb-e116-48f9-bdbc-f941775c4605"
      },
      "execution_count": null,
      "outputs": [
        {
          "output_type": "execute_result",
          "data": {
            "text/plain": [
              "'파!이!썬'"
            ],
            "application/vnd.google.colaboratory.intrinsic+json": {
              "type": "string"
            }
          },
          "metadata": {},
          "execution_count": 15
        }
      ]
    },
    {
      "cell_type": "code",
      "source": [
        "a=\"python\"\n",
        "a.upper()"
      ],
      "metadata": {
        "colab": {
          "base_uri": "https://localhost:8080/",
          "height": 35
        },
        "id": "JWWXxBbe3WYo",
        "outputId": "e078bf50-63df-44e5-c6e5-727100d916c8"
      },
      "execution_count": null,
      "outputs": [
        {
          "output_type": "execute_result",
          "data": {
            "text/plain": [
              "'PYTHON'"
            ],
            "application/vnd.google.colaboratory.intrinsic+json": {
              "type": "string"
            }
          },
          "metadata": {},
          "execution_count": 17
        }
      ]
    },
    {
      "cell_type": "code",
      "source": [
        "a=\"PYTHON\"\n",
        "a.lower()\n"
      ],
      "metadata": {
        "colab": {
          "base_uri": "https://localhost:8080/",
          "height": 35
        },
        "id": "NQo2JihP3gF-",
        "outputId": "b2237a2e-9178-46a8-97fe-55ceb15f15ae"
      },
      "execution_count": null,
      "outputs": [
        {
          "output_type": "execute_result",
          "data": {
            "text/plain": [
              "'python'"
            ],
            "application/vnd.google.colaboratory.intrinsic+json": {
              "type": "string"
            }
          },
          "metadata": {},
          "execution_count": 18
        }
      ]
    },
    {
      "cell_type": "code",
      "source": [
        "a=\" 파이썬 \"\n",
        "a.strip()"
      ],
      "metadata": {
        "colab": {
          "base_uri": "https://localhost:8080/",
          "height": 35
        },
        "id": "v7GlMprZ3t3v",
        "outputId": "18a293e1-b1de-432d-e405-b2997fa29b45"
      },
      "execution_count": null,
      "outputs": [
        {
          "output_type": "execute_result",
          "data": {
            "text/plain": [
              "'파이썬'"
            ],
            "application/vnd.google.colaboratory.intrinsic+json": {
              "type": "string"
            }
          },
          "metadata": {},
          "execution_count": 20
        }
      ]
    },
    {
      "cell_type": "code",
      "source": [
        "a=\" 파이썬 \"\n",
        "a.lstrip()"
      ],
      "metadata": {
        "colab": {
          "base_uri": "https://localhost:8080/",
          "height": 35
        },
        "id": "DFhCCEuW34U-",
        "outputId": "5036c6dc-d947-442f-b586-dc7d7487be0e"
      },
      "execution_count": null,
      "outputs": [
        {
          "output_type": "execute_result",
          "data": {
            "text/plain": [
              "'파이썬 '"
            ],
            "application/vnd.google.colaboratory.intrinsic+json": {
              "type": "string"
            }
          },
          "metadata": {},
          "execution_count": 21
        }
      ]
    },
    {
      "cell_type": "code",
      "source": [
        "a=\" 파이썬 \"\n",
        "a.rstrip()"
      ],
      "metadata": {
        "colab": {
          "base_uri": "https://localhost:8080/",
          "height": 35
        },
        "id": "WNsB4lBd4CWL",
        "outputId": "b58efab9-dfd2-40b0-a784-22d1053f9464"
      },
      "execution_count": null,
      "outputs": [
        {
          "output_type": "execute_result",
          "data": {
            "text/plain": [
              "' 파이썬'"
            ],
            "application/vnd.google.colaboratory.intrinsic+json": {
              "type": "string"
            }
          },
          "metadata": {},
          "execution_count": 22
        }
      ]
    },
    {
      "cell_type": "code",
      "source": [
        "a=\"Life is too short\"\n",
        "a.replace(\"Life\",\"Your leg\")"
      ],
      "metadata": {
        "colab": {
          "base_uri": "https://localhost:8080/",
          "height": 35
        },
        "id": "sndUwoKB4M6I",
        "outputId": "c76d6e73-7bba-42ad-bd1a-4edce2834810"
      },
      "execution_count": null,
      "outputs": [
        {
          "output_type": "execute_result",
          "data": {
            "text/plain": [
              "'Your leg is too short'"
            ],
            "application/vnd.google.colaboratory.intrinsic+json": {
              "type": "string"
            }
          },
          "metadata": {},
          "execution_count": 23
        }
      ]
    },
    {
      "cell_type": "code",
      "source": [
        "a=\"a,b,c,d\"\n",
        "a.split('.')"
      ],
      "metadata": {
        "colab": {
          "base_uri": "https://localhost:8080/"
        },
        "id": "yLDTyADD4aob",
        "outputId": "efa420ce-275f-4fe0-aa3b-c73928183390"
      },
      "execution_count": null,
      "outputs": [
        {
          "output_type": "execute_result",
          "data": {
            "text/plain": [
              "['a,b,c,d']"
            ]
          },
          "metadata": {},
          "execution_count": 24
        }
      ]
    },
    {
      "cell_type": "code",
      "source": [
        "# 거꾸로 출력\n",
        "s= input('문자열을 입력하세요: ')\n",
        "print(s[::-1])"
      ],
      "metadata": {
        "colab": {
          "base_uri": "https://localhost:8080/"
        },
        "id": "m8h45BHy_aUX",
        "outputId": "49a3fbea-2b66-4701-c630-63f233e2dc3f"
      },
      "execution_count": null,
      "outputs": [
        {
          "output_type": "stream",
          "name": "stdout",
          "text": [
            "문자열을 입력하세요: 사랑해요 파이썬!\n",
            "!썬이파 요해랑사\n"
          ]
        }
      ]
    },
    {
      "cell_type": "code",
      "source": [
        "a= input('파일을 입력하세요: ')\n",
        "a=a.split('.')\n",
        "print(f'파일명 : {a[0]}, 확장자 : {a[1]}')\n"
      ],
      "metadata": {
        "colab": {
          "base_uri": "https://localhost:8080/"
        },
        "id": "UDhwNNFrBDpr",
        "outputId": "d4a301c5-1709-404a-80a7-9eb0eec28f07"
      },
      "execution_count": null,
      "outputs": [
        {
          "output_type": "stream",
          "name": "stdout",
          "text": [
            "파일을 입력하세요: dddd.py\n",
            "파일명 : dddd, 확장자 : py\n"
          ]
        }
      ]
    },
    {
      "cell_type": "markdown",
      "source": [
        "###날짜와 시간관련 모듈"
      ],
      "metadata": {
        "id": "fp3jQ9MLC_ld"
      }
    },
    {
      "cell_type": "code",
      "source": [
        "import datetime\n",
        "import sys\n",
        "sys.path"
      ],
      "metadata": {
        "colab": {
          "base_uri": "https://localhost:8080/"
        },
        "id": "pkIHEX-LDf7t",
        "outputId": "207b4d7f-f744-4867-cddd-d48b8315a91e"
      },
      "execution_count": null,
      "outputs": [
        {
          "output_type": "execute_result",
          "data": {
            "text/plain": [
              "['/content',\n",
              " '/env/python',\n",
              " '/usr/lib/python310.zip',\n",
              " '/usr/lib/python3.10',\n",
              " '/usr/lib/python3.10/lib-dynload',\n",
              " '',\n",
              " '/usr/local/lib/python3.10/dist-packages',\n",
              " '/usr/lib/python3/dist-packages',\n",
              " '/usr/local/lib/python3.10/dist-packages/IPython/extensions',\n",
              " '/root/.ipython']"
            ]
          },
          "metadata": {},
          "execution_count": 34
        }
      ]
    },
    {
      "cell_type": "code",
      "source": [
        "import datetime\n",
        "print(datetime.datetime.now())\n",
        "print(type(datetime.datetime.now()))\n"
      ],
      "metadata": {
        "colab": {
          "base_uri": "https://localhost:8080/"
        },
        "id": "yhQNmYtJErPa",
        "outputId": "de36370f-9ac4-430c-9b0f-d05476332b33"
      },
      "execution_count": null,
      "outputs": [
        {
          "output_type": "stream",
          "name": "stdout",
          "text": [
            "2023-08-08 03:00:30.164093\n",
            "<class 'datetime.datetime'>\n"
          ]
        }
      ]
    },
    {
      "cell_type": "code",
      "source": [
        "now= str(datetime.datetime.now())\n",
        "print(f'값 :{now}')\n",
        "print(f'자료형 : {type(now)}')\n",
        "print(f'지금 시각은 {now[:4]}년 {now[5:7]}월 {now[8:10]}일 {now[11:13]}시 {now[14:16]}분 {now[17:19]}초 입니다.')\n"
      ],
      "metadata": {
        "colab": {
          "base_uri": "https://localhost:8080/"
        },
        "id": "qFqrLYRiFx9P",
        "outputId": "9578a847-1415-408b-c8dd-851f4b27fa81"
      },
      "execution_count": null,
      "outputs": [
        {
          "output_type": "stream",
          "name": "stdout",
          "text": [
            "값 :2023-08-08 03:12:47.227917\n",
            "자료형 : <class 'str'>\n",
            "지금 시각은 2023년 08월 08일 03시 12분 47초 입니다.\n"
          ]
        }
      ]
    },
    {
      "cell_type": "code",
      "source": [
        "import datetime\n",
        "\n",
        "now= datetime.datetime.now()\n",
        "print(now.strftime('%Y년 %m월 %d일 %H시 %M분 %S초 입니다'))\n",
        "# print(now.strftime('%Y년 %m월 %d일 %H시 %M분 %S초 입니다'))통으로 알기"
      ],
      "metadata": {
        "colab": {
          "base_uri": "https://localhost:8080/"
        },
        "id": "QxKr98MEI5E9",
        "outputId": "fcca4a1c-64dd-421d-bcea-bed0a882b205"
      },
      "execution_count": null,
      "outputs": [
        {
          "output_type": "stream",
          "name": "stdout",
          "text": [
            "2023년 08월 08일 03시 17분 13초 입니다\n"
          ]
        }
      ]
    },
    {
      "cell_type": "markdown",
      "source": [
        "##[실습문제] 환율정보 가져오기"
      ],
      "metadata": {
        "id": "KxgVAeByK6wq"
      }
    },
    {
      "cell_type": "code",
      "source": [
        "import urllib.request\n",
        "import ssl\n",
        "\n",
        "ctx = ssl._create_unverified_context()\n",
        "\n",
        "#환율정보 페이지 불러오기\n",
        "print(\"[환율정보 불러오기]\")\n",
        "URL = \"https://search.naver.com/search.naver?where=nexearch&sm=top_hty&fbm=1&ie=utf8&query=%ED%99%98%EC%9C%A8\"\n",
        "page = urllib.request.urlopen(URL, context=ctx)\n",
        "text = page.read().decode(\"utf8\")  # 해당 페이지의 소스코드\n",
        "#print(text)\n",
        "\n",
        "#환율정보 가져오기: 기준시간\n",
        "searchText = 'class=\"grp_info\"> <em>'\n",
        "where      = text.find(searchText)  #소스코드에서 해당 문자열의 시작위치\n",
        "print(f'위치: {where}')\n",
        "print(f'searchText 길이: {let(searchText)}')\n",
        "start = where+len(searchText)\n",
        "end = where+len(searchText)+16\n",
        "targetinfo = text[start:end]\n",
        "targetInfo = text[where+len(searchText):where+len(searchText)+16]\n",
        "print(f'-환율기준시간: {targetInfo}')\n",
        "\n",
        "# #환율정보 가져오기: 달러\n",
        "# searchText = '<span>미국 <em>USD</em></span></a></th> <td><span>'\n",
        "# where      = text.find(searchText)\n",
        "# targetInfo = text[where+len(searchText):where+len(searchText)+8]\n",
        "# print(f'-달러: {targetInfo}')\n",
        "\n",
        "#-----------------------------------------------------------------"
      ],
      "metadata": {
        "colab": {
          "base_uri": "https://localhost:8080/",
          "height": 287
        },
        "id": "7OZTTPUcKNyR",
        "outputId": "bbb47dbd-298a-4d65-8422-072829955bea"
      },
      "execution_count": null,
      "outputs": [
        {
          "output_type": "stream",
          "name": "stdout",
          "text": [
            "[환율정보 불러오기]\n",
            "위치: 74030\n"
          ]
        },
        {
          "output_type": "error",
          "ename": "NameError",
          "evalue": "ignored",
          "traceback": [
            "\u001b[0;31m---------------------------------------------------------------------------\u001b[0m",
            "\u001b[0;31mNameError\u001b[0m                                 Traceback (most recent call last)",
            "\u001b[0;32m<ipython-input-51-5e260f02cdb0>\u001b[0m in \u001b[0;36m<cell line: 17>\u001b[0;34m()\u001b[0m\n\u001b[1;32m     15\u001b[0m \u001b[0mwhere\u001b[0m      \u001b[0;34m=\u001b[0m \u001b[0mtext\u001b[0m\u001b[0;34m.\u001b[0m\u001b[0mfind\u001b[0m\u001b[0;34m(\u001b[0m\u001b[0msearchText\u001b[0m\u001b[0;34m)\u001b[0m  \u001b[0;31m#소스코드에서 해당 문자열의 시작위치\u001b[0m\u001b[0;34m\u001b[0m\u001b[0;34m\u001b[0m\u001b[0m\n\u001b[1;32m     16\u001b[0m \u001b[0mprint\u001b[0m\u001b[0;34m(\u001b[0m\u001b[0;34mf'위치: {where}'\u001b[0m\u001b[0;34m)\u001b[0m\u001b[0;34m\u001b[0m\u001b[0;34m\u001b[0m\u001b[0m\n\u001b[0;32m---> 17\u001b[0;31m \u001b[0mprint\u001b[0m\u001b[0;34m(\u001b[0m\u001b[0;34mf'searchText 길이: {let(searchText)}'\u001b[0m\u001b[0;34m)\u001b[0m\u001b[0;34m\u001b[0m\u001b[0;34m\u001b[0m\u001b[0m\n\u001b[0m\u001b[1;32m     18\u001b[0m \u001b[0mstart\u001b[0m \u001b[0;34m=\u001b[0m \u001b[0mwhere\u001b[0m\u001b[0;34m+\u001b[0m\u001b[0mlen\u001b[0m\u001b[0;34m(\u001b[0m\u001b[0msearchText\u001b[0m\u001b[0;34m)\u001b[0m\u001b[0;34m\u001b[0m\u001b[0;34m\u001b[0m\u001b[0m\n\u001b[1;32m     19\u001b[0m \u001b[0mend\u001b[0m \u001b[0;34m=\u001b[0m \u001b[0mwhere\u001b[0m\u001b[0;34m+\u001b[0m\u001b[0mlen\u001b[0m\u001b[0;34m(\u001b[0m\u001b[0msearchText\u001b[0m\u001b[0;34m)\u001b[0m\u001b[0;34m+\u001b[0m\u001b[0;36m16\u001b[0m\u001b[0;34m\u001b[0m\u001b[0;34m\u001b[0m\u001b[0m\n",
            "\u001b[0;31mNameError\u001b[0m: name 'let' is not defined"
          ]
        }
      ]
    },
    {
      "cell_type": "code",
      "source": [
        "import urllib.request\n",
        "import ssl\n",
        "\n",
        "ctx = ssl._create_unverified_context()\n",
        "\n",
        "#환율정보 페이지 불러오기\n",
        "print(\"[환율정보 불러오기]\")\n",
        "URL = \"https://search.naver.com/search.naver?where=nexearch&sm=top_hty&fbm=1&ie=utf8&query=%ED%99%98%EC%9C%A8\"\n",
        "page = urllib.request.urlopen(URL, context=ctx)\n",
        "text = page.read().decode(\"utf8\")  # 해당 페이지의 소스코드\n",
        "# print(text)\n",
        "\n",
        "#환율정보 가져오기: 기준시간\n",
        "searchText = 'class=\"grp_info\"> <em>'\n",
        "where      = text.find(searchText)  #소스코드에서 해당 문자열의 시작위치\n",
        "targetInfo = text[where+len(searchText):where+len(searchText)+16]\n",
        "print(f'-환율기준시간: {targetInfo}')\n",
        "\n",
        "#환율정보 가져오기: 달러\n",
        "searchText = '<span>미국 <em>USD</em></span></a></th> <td><span>'\n",
        "where      = text.find(searchText)\n",
        "targetInfo = text[where+len(searchText):where+len(searchText)+8]\n",
        "print(f'-달러: {targetInfo}')\n",
        "\n",
        "#-----------------------------------------------------------------"
      ],
      "metadata": {
        "colab": {
          "base_uri": "https://localhost:8080/"
        },
        "id": "GWquQqBIOrtv",
        "outputId": "9cbd73b9-1657-4f72-ebb3-f493fa5075fb"
      },
      "execution_count": null,
      "outputs": [
        {
          "output_type": "stream",
          "name": "stdout",
          "text": [
            "[환율정보 불러오기]\n",
            "-환율기준시간: 2023.08.08 12:37\n",
            "-달러: 1,314.70\n"
          ]
        }
      ]
    },
    {
      "cell_type": "code",
      "source": [
        "import urllib.request\n",
        "import ssl\n",
        "\n",
        "ctx = ssl._create_unverified_context()\n",
        "\n",
        "#환율정보 페이지 불러오기\n",
        "print(\"[환율정보 불러오기]\")\n",
        "URL = \"https://search.naver.com/search.naver?where=nexearch&sm=top_hty&fbm=1&ie=utf8&query=%ED%99%98%EC%9C%A8\"\n",
        "page = urllib.request.urlopen(URL, context=ctx)\n",
        "text = page.read().decode(\"utf8\")  # 해당 페이지의 소스코드\n",
        "# print(text)\n",
        "\n",
        "#환율정보 가져오기: 기준시간\n",
        "searchText = 'class=\"grp_info\"> <em>'\n",
        "where      = text.find(searchText)  #소스코드에서 해당 문자열의 시작위치\n",
        "targetInfo = text[where+len(searchText):where+len(searchText)+16]\n",
        "print(f'-환율기준시간: {targetInfo}')\n",
        "\n",
        "#환율정보 가져오기: 유로\n",
        "searchText = '<span>유럽연합 <em>EUR</em></span></a></th> <td><span>'\n",
        "where      = text.find(searchText)\n",
        "targetInfo = text[where+len(searchText):where+len(searchText)+8]\n",
        "print(f'-유로: {targetInfo}')\n",
        "\n",
        "#-----------------------------------------------------------------"
      ],
      "metadata": {
        "colab": {
          "base_uri": "https://localhost:8080/"
        },
        "id": "WCwz-udROwsf",
        "outputId": "9b85427f-9e84-4f9a-b5f1-6a87c8966114"
      },
      "execution_count": null,
      "outputs": [
        {
          "output_type": "stream",
          "name": "stdout",
          "text": [
            "[환율정보 불러오기]\n",
            "-환율기준시간: 2023.08.08 12:38\n",
            "-유로: 1,444.55\n"
          ]
        }
      ]
    },
    {
      "cell_type": "code",
      "source": [
        "import urllib.request\n",
        "import ssl\n",
        "\n",
        "ctx = ssl._create_unverified_context()\n",
        "\n",
        "#환율정보 페이지 불러오기\n",
        "print(\"[환율정보 불러오기]\")\n",
        "URL = \"https://search.naver.com/search.naver?where=nexearch&sm=top_hty&fbm=1&ie=utf8&query=%ED%99%98%EC%9C%A8\"\n",
        "page = urllib.request.urlopen(URL, context=ctx)\n",
        "text = page.read().decode(\"utf8\")  # 해당 페이지의 소스코드\n",
        "# print(text)\n",
        "\n",
        "#환율정보 가져오기: 기준시간\n",
        "searchText = 'class=\"grp_info\"> <em>'\n",
        "where      = text.find(searchText)  #소스코드에서 해당 문자열의 시작위치\n",
        "targetInfo = text[where+len(searchText):where+len(searchText)+16]\n",
        "print(f'-환율기준시간: {targetInfo}')\n",
        "\n",
        "#환율정보 가져오기: 위안\n",
        "searchText = '<span>중국 <em>CNY</em></span></a></th> <td><span>'\n",
        "where      = text.find(searchText)\n",
        "targetInfo = text[where+len(searchText):where+len(searchText)+6]\n",
        "print(f'-위안: {targetInfo}')\n",
        "\n",
        "#-----------------------------------------------------------------"
      ],
      "metadata": {
        "colab": {
          "base_uri": "https://localhost:8080/"
        },
        "id": "1fpypUHvO_KU",
        "outputId": "d00e535b-185a-447e-8e7e-1bdf51e9375e"
      },
      "execution_count": null,
      "outputs": [
        {
          "output_type": "stream",
          "name": "stdout",
          "text": [
            "[환율정보 불러오기]\n",
            "-환율기준시간: 2023.08.08 12:41\n",
            "-위안: 181.99\n"
          ]
        }
      ]
    },
    {
      "cell_type": "code",
      "source": [
        "print('==동전교환프로그램==')\n",
        "money= int( input('동전으로 교환할 금액을 입력하세요:'))\n",
        "print('-'*30)\n",
        "print(f'500원짜리 동전: {money // 500}개')\n",
        "money %= 500 # money = money % 500\n",
        "print(f'100원짜리 동전: {money // 100}개')\n",
        "money= money % 100\n",
        "print(f'50원짜리 동전: {money // 50}개')\n",
        "money= money % 50\n",
        "print(f'10원짜리 동전: {money // 10}개')\n",
        "money= money % 10\n",
        "print(f'잔돈: {money}원')\n",
        "\n"
      ],
      "metadata": {
        "colab": {
          "base_uri": "https://localhost:8080/"
        },
        "id": "nVHHkCNWnAZo",
        "outputId": "05b11490-bd95-48e6-c580-7e1f941b9474"
      },
      "execution_count": null,
      "outputs": [
        {
          "output_type": "stream",
          "name": "stdout",
          "text": [
            "==동전교환프로그램==\n",
            "동전으로 교환할 금액을 입력하세요:55555\n",
            "------------------------------\n",
            "500원짜리 동전: 111개\n",
            "100원짜리 동전: 0개\n",
            "50원짜리 동전: 1개\n",
            "10원짜리 동전: 0개\n",
            "잔돈: 5원\n"
          ]
        }
      ]
    },
    {
      "cell_type": "code",
      "source": [
        "money=int(input('교환할 돈은 얼마?'))\n",
        "print('-'*30)\n",
        "print(f'50000원 {money // 50000}장 ,')\n",
        "money %=50000\n",
        "print(f'10000원 {money // 10000}장 ,')\n",
        "money %=10000\n",
        "print(f'5000원 {money // 5000}장 ,')\n",
        "money %=5000\n",
        "print(f'1000원 {money // 1000}장 ,')\n",
        "money %=1000\n",
        "print(f'500원짜리 동전: {money // 500}개')\n",
        "money %= 500\n",
        "print(f'100원짜리 동전: {money // 100}개')\n",
        "money= money % 100\n",
        "print(f'50원짜리 동전: {money // 50}개')\n",
        "money= money % 50\n",
        "print(f'10원짜리 동전: {money // 10}개')\n",
        "money= money % 10\n",
        "print(f'잔돈: {money}원')\n",
        "\n",
        "\n",
        "\n"
      ],
      "metadata": {
        "colab": {
          "base_uri": "https://localhost:8080/"
        },
        "id": "jMIuRNblo_Lo",
        "outputId": "6a83e9cc-923e-4804-e949-a3cb8d744735"
      },
      "execution_count": null,
      "outputs": [
        {
          "output_type": "stream",
          "name": "stdout",
          "text": [
            "교환할 돈은 얼마?155555\n",
            "------------------------------\n",
            "50000원 3장 ,\n",
            "10000원 0장 ,\n",
            "5000원 1장 ,\n",
            "1000원 0장 ,\n",
            "500원짜리 동전: 1개\n",
            "100원짜리 동전: 0개\n",
            "50원짜리 동전: 1개\n",
            "10원짜리 동전: 0개\n",
            "잔돈: 5원\n"
          ]
        }
      ]
    },
    {
      "cell_type": "markdown",
      "source": [],
      "metadata": {
        "id": "9sgOvsKgtGrp"
      }
    },
    {
      "cell_type": "markdown",
      "source": [
        "##if 조건문"
      ],
      "metadata": {
        "id": "ryxfby_AtGuC"
      }
    },
    {
      "cell_type": "code",
      "source": [
        "# if 조건문\n",
        "a = 1500\n",
        "if a <1000:\n",
        "  print(f'{a}는 1000보다 작군요!')"
      ],
      "metadata": {
        "id": "1mJAUYyUtJYA"
      },
      "execution_count": null,
      "outputs": []
    },
    {
      "cell_type": "code",
      "source": [
        "# if~else~ 조건문\n",
        "a = 1500\n",
        "if a <1000:\n",
        "  print(f'{a}는 1000보다 작군요!')\n",
        "else:\n",
        "  print(f'{a}는 1000보다 크거나 같군요!')"
      ],
      "metadata": {
        "colab": {
          "base_uri": "https://localhost:8080/"
        },
        "id": "MQuKnoEFtmOu",
        "outputId": "b799e77e-d206-4314-8097-1e7e8ece7d99"
      },
      "execution_count": null,
      "outputs": [
        {
          "output_type": "stream",
          "name": "stdout",
          "text": [
            "1500는 1000보다 크거나 같군요!\n"
          ]
        }
      ]
    },
    {
      "cell_type": "code",
      "source": [
        "# 중첩 if~문\n",
        "온도 = float(input('온도를 입력해주세요: '))\n",
        "if 온도>30:\n",
        "  if 온도>35:\n",
        "    print('무척 덥군요!')\n",
        "  else:\n",
        "    print('덥군요!')\n",
        "else:\n",
        "  if 10 < 온도 <= 30:\n",
        "   print('쾌적한 온도 입니다!')\n",
        "  else:\n",
        "    print('추운 온도네요!')"
      ],
      "metadata": {
        "colab": {
          "base_uri": "https://localhost:8080/"
        },
        "id": "FzR_SMn4t5TO",
        "outputId": "523f0dad-db57-47a5-aec2-5fb04a78fdc5"
      },
      "execution_count": null,
      "outputs": [
        {
          "output_type": "stream",
          "name": "stdout",
          "text": [
            "온도를 입력해주세요: 31\n",
            "덥군요!\n"
          ]
        }
      ]
    },
    {
      "cell_type": "code",
      "source": [
        "# if~elif~else~\n",
        "온도 = float(input('온도를 입력해주세요: '))\n",
        "\n",
        "if 온도 > 35:\n",
        "  print('무척 덥군요!')\n",
        "elif 온도>30:\n",
        "  print('덥군요!')\n",
        "elif 온도>10:\n",
        "  print('쾌적한 온도입니다!')\n",
        "else:\n",
        "  print('추운 온도네요!')\n"
      ],
      "metadata": {
        "colab": {
          "base_uri": "https://localhost:8080/"
        },
        "id": "5IiReKryvWOo",
        "outputId": "a3ccb545-3df9-49fb-a2a8-2bb5861a8346"
      },
      "execution_count": null,
      "outputs": [
        {
          "output_type": "stream",
          "name": "stdout",
          "text": [
            "온도를 입력해주세요: -6\n",
            "추운 온도네요!\n"
          ]
        }
      ]
    },
    {
      "cell_type": "code",
      "source": [
        "x= int(input('숫자를 입력해 주세요: '))\n",
        "if x%2 ==0:\n",
        "  print('짝수입니다!')\n",
        "else:\n",
        "  print('홀수입니다!')"
      ],
      "metadata": {
        "colab": {
          "base_uri": "https://localhost:8080/"
        },
        "id": "QoFRkxRI2Si1",
        "outputId": "8e737273-6a25-49ef-b30d-acc87b3d3328"
      },
      "execution_count": null,
      "outputs": [
        {
          "output_type": "stream",
          "name": "stdout",
          "text": [
            "숫자를 입력해 주세요: 44\n",
            "짝수입니다!\n"
          ]
        }
      ]
    },
    {
      "cell_type": "code",
      "source": [
        "score=int(input('성적을 입력해주세요: '))\n",
        "if score>90:\n",
        "  print(f'{score}는 A 등급입니다')\n",
        "elif score>80:\n",
        "  print(f'{score}는 B 등급입니다')\n",
        "elif score>70:\n",
        "  print(f'{score}는 C 등급입니다')\n",
        "else:\n",
        "  print(f'{score}는 D 등급입니다')\n"
      ],
      "metadata": {
        "colab": {
          "base_uri": "https://localhost:8080/"
        },
        "id": "u7ccpOXg3hhD",
        "outputId": "2d2b87e1-505b-428b-8cae-7f0819756864"
      },
      "execution_count": null,
      "outputs": [
        {
          "output_type": "stream",
          "name": "stdout",
          "text": [
            "성적을 입력해주세요: 93\n",
            "93는 A 등급입니다\n"
          ]
        }
      ]
    },
    {
      "cell_type": "code",
      "source": [
        "score=int(input('성적을 입력해주세요: '))\n",
        "if score>90:\n",
        "  grade='A'\n",
        "elif score>80:\n",
        "  grade='B'\n",
        "elif score>70:\n",
        "  grade='C'\n",
        "else:\n",
        "  grade='D'\n",
        "print('-'*30)\n",
        "print(f'{score}는 {grade}입니다')\n",
        "\n"
      ],
      "metadata": {
        "colab": {
          "base_uri": "https://localhost:8080/"
        },
        "id": "A4KpZta645mR",
        "outputId": "8758fb4a-cf39-477f-c7a5-cb4cb803b072"
      },
      "execution_count": null,
      "outputs": [
        {
          "output_type": "stream",
          "name": "stdout",
          "text": [
            "성적을 입력해주세요: 100\n",
            "------------------------------\n",
            "100는 A입니다\n"
          ]
        }
      ]
    },
    {
      "cell_type": "code",
      "source": [
        "grade1=('A',)\n",
        "grade2=['A','B']\n",
        "print(type(grade1), type(grade2))\n"
      ],
      "metadata": {
        "colab": {
          "base_uri": "https://localhost:8080/"
        },
        "id": "7eDBKiRr5_b8",
        "outputId": "4adf3936-1fa1-4a8f-f263-6863257df171"
      },
      "execution_count": null,
      "outputs": [
        {
          "output_type": "stream",
          "name": "stdout",
          "text": [
            "<class 'tuple'> <class 'list'>\n"
          ]
        }
      ]
    },
    {
      "cell_type": "code",
      "source": [
        "온도 = int(input('온도를 입력해주세요: '))\n",
        "if 온도>=30:\n",
        "  print('에어컨을 켜세요')\n",
        "elif  15<온도<30:\n",
        "  print('쾌적한 온도')\n",
        "elif 10<온도<15:\n",
        "  print('내복을 입으세요')\n",
        "elif 온도<=10:\n",
        "  print('난방기를 키세요')\n"
      ],
      "metadata": {
        "colab": {
          "base_uri": "https://localhost:8080/"
        },
        "id": "-Ly9X8zX7DhM",
        "outputId": "5e7ec424-1bd9-43bb-f53d-c4ac733f9806"
      },
      "execution_count": null,
      "outputs": [
        {
          "output_type": "stream",
          "name": "stdout",
          "text": [
            "온도를 입력해주세요: 9\n",
            "난방기를 키세요\n"
          ]
        }
      ]
    },
    {
      "cell_type": "code",
      "source": [
        "score = float(input('현재 온도를 입력 해 보렴: '))\n",
        "print(\"-\"*20)\n",
        "if score >= 30:\n",
        "  grade = \"에어컨을 켜는 게 어떻겠니?\n",
        "elif 15 < score < 30 :\n",
        "  grade = \"쾌적한 온도~\"\n",
        "elif  10 < score < 15:\n",
        "  grade = \"춥단다 내복을 입으렴\"\n",
        "elif score <= 10:\n",
        "  grade = \"난방기 키렴\"\n",
        "\n",
        "print(f'온도:  {grade}')"
      ],
      "metadata": {
        "colab": {
          "base_uri": "https://localhost:8080/"
        },
        "id": "Eds46b-s_H2c",
        "outputId": "6f6e842b-cffc-4c65-9555-5b31ddab0f55"
      },
      "execution_count": null,
      "outputs": [
        {
          "output_type": "stream",
          "name": "stdout",
          "text": [
            "현재 온도를 입력 해 보렴: 2\n",
            "--------------------\n",
            "온도:  난방기 키렴\n"
          ]
        }
      ]
    },
    {
      "cell_type": "code",
      "source": [
        "#[실습문제] 주민번호를 이용해서 정보 추출\n",
        "userid = input('주민번호: ')\n",
        "yy = userid[:2] #년도\n",
        "mm = userid[2:4] #월\n",
        "dd = userid[4:6] #일\n",
        "print(f'{yy}년 {mm}월 {dd}일')\n",
        "\n",
        "#gender확인\n",
        "if userid[7] == '1' :\n",
        "  gender='남성'\n",
        "  yy= 1900+int(yy)\n",
        "if userid[7]  == '2':\n",
        "  gender='여성'\n",
        "  yy=1900+int(yy)\n",
        "if userid[7] == '3' :\n",
        "  gender='남성'\n",
        "  yy= 2000+int(yy)\n",
        "if userid[7]  == '4':\n",
        "  gender='여성'\n",
        "  yy=2000+int(yy)\n",
        "\n",
        "import datetime\n",
        "now = datetime. datetime.now()\n",
        "age = now.year - yy #나이계산\n",
        "\n",
        "print(f'{yy}년 {mm}월 {dd}일, {gender},{age}세')\n"
      ],
      "metadata": {
        "colab": {
          "base_uri": "https://localhost:8080/"
        },
        "id": "z-p30cPw_eS4",
        "outputId": "9c45455d-7858-45da-ca88-9db85116a6ba"
      },
      "execution_count": null,
      "outputs": [
        {
          "output_type": "stream",
          "name": "stdout",
          "text": [
            "주민번호: 870701-2801421\n",
            "87년 07월 01일\n",
            "1987년 07월 01일, 여성,36세\n"
          ]
        }
      ]
    },
    {
      "cell_type": "code",
      "source": [
        "import datetime\n",
        "now = datetime. datetime.now()\n",
        "print(now.year, now.month, now.day)\n",
        "print(type(now.year))"
      ],
      "metadata": {
        "colab": {
          "base_uri": "https://localhost:8080/"
        },
        "id": "A3uxycj4DLFk",
        "outputId": "16e922a3-5518-42fa-b1de-e7d9b71c60a2"
      },
      "execution_count": null,
      "outputs": [
        {
          "output_type": "stream",
          "name": "stdout",
          "text": [
            "2023 8 8\n",
            "<class 'int'>\n"
          ]
        }
      ]
    },
    {
      "cell_type": "code",
      "source": [
        "userid = input('주민번호: ')\n",
        "yy = userid[:2]   # 년도\n",
        "mm = userid[2:4]  # 월\n",
        "dd = userid[4:6]  # 일\n",
        "\n",
        "yy, mm, dd = userid[:2], userid[2:4], userid[4:6]\n",
        "\n",
        "\n",
        "# gender확인\n",
        "if userid[7] == '1':\n",
        "  gender = '남성'\n",
        "  yy = 1900 + int(yy)\n",
        "if userid[7] == '2':\n",
        "  gender = '여성'\n",
        "  yy = 1900 + int(yy)\n",
        "if userid[7] == '3':\n",
        "  gender = '남성'\n",
        "  yy = 2000 + int(yy)\n",
        "if userid[7] == '4':\n",
        "  gender = '여성'\n",
        "  yy = 2000 + int(yy)\n",
        "\n",
        "import datetime\n",
        "now  = datetime.datetime.now()\n",
        "age = now.year - yy       # 나이 계산\n",
        "\n",
        "print(f'{yy}년 {mm}월 {dd}일, {age}세, {gender}')"
      ],
      "metadata": {
        "colab": {
          "base_uri": "https://localhost:8080/"
        },
        "id": "-SnYUoUbCrJ0",
        "outputId": "6c3d2d50-d95c-4fe7-a413-e9356faa5523"
      },
      "execution_count": null,
      "outputs": [
        {
          "output_type": "stream",
          "name": "stdout",
          "text": [
            "주민번호: 800203-1054631\n",
            "1980년 02월 03일, 43세, 남성\n"
          ]
        }
      ]
    },
    {
      "cell_type": "markdown",
      "source": [
        "###[실습문제] 키오스크 주문 프로그램 만들기"
      ],
      "metadata": {
        "id": "XYbsqBCYFi19"
      }
    },
    {
      "cell_type": "code",
      "source": [
        "coffee1_price = 2500\n",
        "coffee2_price = 3000\n",
        "coffee3_price = 3000\n",
        "menu = f'''[커피 자동 주문 머신 메뉴]\n",
        "-----------------------------\n",
        "- 아메리카노: {coffee1_price}원\n",
        "- 카페라떼 :  {coffee2_price}원\n",
        "- 카푸치노 :  {coffee3_price}원\n",
        "-----------------------------\n",
        "원하시는 커피 종류와 잔수를 입력하세요!\n",
        "'''\n",
        "print(menu)\n",
        "coffee1 = int(input('아메리카노 몇잔 :'))\n",
        "coffee2 = int(input('카페라떼 몇잔 :'))\n",
        "coffee3 = int(input('카푸치노 몇잔 :'))\n",
        "\n",
        "total = coffee1_price*coffee1+coffee2_price*coffee2+coffee3_price*coffee3\n",
        "print(f'주문하신 총 가격은 {total}원 입니다.')\n",
        "\n",
        "money=int(input('돈을 넣어주세요~: '))\n",
        "if total > money:\n",
        "  print(f'{total-money}원이 부족합니다. 돈을 더 넣어주세요')\n",
        "else:\n",
        "  print(f'거스름돈은 {abs(money-total)}원 입니다. 커피 맛있게 드세요~')\n"
      ],
      "metadata": {
        "colab": {
          "base_uri": "https://localhost:8080/"
        },
        "id": "irr7rh7UE83e",
        "outputId": "f6e2fbd7-ae4c-460e-f9a6-d4a5de7c16f2"
      },
      "execution_count": null,
      "outputs": [
        {
          "output_type": "stream",
          "name": "stdout",
          "text": [
            "[커피 자동 주문 머신 메뉴]\n",
            "-----------------------------\n",
            "- 아메리카노: 2500원\n",
            "- 카페라떼 :  3000원\n",
            "- 카푸치노 :  3000원\n",
            "-----------------------------\n",
            "원하시는 커피 종류와 잔수를 입력하세요!\n",
            "\n",
            "아메리카노 몇잔 :0\n",
            "카페라떼 몇잔 :0\n",
            "카푸치노 몇잔 :1\n",
            "주문하신 총 가격은 3000원 입니다.\n",
            "돈을 넣어주세요~: 2000\n",
            "1000원이 부족합니다. 돈을 더 넣어주세요\n"
          ]
        }
      ]
    }
  ]
}