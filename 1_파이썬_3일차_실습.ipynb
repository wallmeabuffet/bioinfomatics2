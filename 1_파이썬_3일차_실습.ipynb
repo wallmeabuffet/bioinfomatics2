{
  "nbformat": 4,
  "nbformat_minor": 0,
  "metadata": {
    "colab": {
      "provenance": [],
      "authorship_tag": "ABX9TyNlyIPgHGiPg+3cX+bFD8zN",
      "include_colab_link": true
    },
    "kernelspec": {
      "name": "python3",
      "display_name": "Python 3"
    },
    "language_info": {
      "name": "python"
    }
  },
  "cells": [
    {
      "cell_type": "markdown",
      "metadata": {
        "id": "view-in-github",
        "colab_type": "text"
      },
      "source": [
        "<a href=\"https://colab.research.google.com/github/wallmeabuffet/bioinfomatics2/blob/main/1_%ED%8C%8C%EC%9D%B4%EC%8D%AC_3%EC%9D%BC%EC%B0%A8_%EC%8B%A4%EC%8A%B5.ipynb\" target=\"_parent\"><img src=\"https://colab.research.google.com/assets/colab-badge.svg\" alt=\"Open In Colab\"/></a>"
      ]
    },
    {
      "cell_type": "markdown",
      "source": [
        "#1. for 반복문"
      ],
      "metadata": {
        "id": "IkYULKWD9iSB"
      }
    },
    {
      "cell_type": "markdown",
      "source": [
        "##range()함수 사용"
      ],
      "metadata": {
        "id": "3FXpm0cK9oZR"
      }
    },
    {
      "cell_type": "code",
      "source": [
        "# range()함수 사용\n",
        "#for 번호 in range(0,10,1):\n",
        "#for 번호 in range(0,10):\n",
        "#for 번호 in range(10): (위 3개 같은 결과)\n",
        "#for 번호 in range(0,10,2):\n",
        "for 번호 in range(2,10,3):\n",
        "  print(f\"{번호}안녕하세요. 파이썬 수업시간입니다\")"
      ],
      "metadata": {
        "colab": {
          "base_uri": "https://localhost:8080/"
        },
        "id": "y4b5zeKR9mdA",
        "outputId": "79170a8b-ee4a-45fa-ec9a-89e2a3b2d8dd"
      },
      "execution_count": null,
      "outputs": [
        {
          "output_type": "stream",
          "name": "stdout",
          "text": [
            "2안녕하세요. 파이썬 수업시간입니다\n",
            "5안녕하세요. 파이썬 수업시간입니다\n",
            "8안녕하세요. 파이썬 수업시간입니다\n"
          ]
        }
      ]
    },
    {
      "cell_type": "code",
      "source": [
        "#range()함수를 이용해 정수 나열리스트 만들기\n",
        "print(list(range(2,10,3)))"
      ],
      "metadata": {
        "colab": {
          "base_uri": "https://localhost:8080/"
        },
        "id": "B1QpI1cL-4L1",
        "outputId": "36829962-2dc8-4483-eb36-9b2cd8fc73a3"
      },
      "execution_count": null,
      "outputs": [
        {
          "output_type": "stream",
          "name": "stdout",
          "text": [
            "[2, 5, 8]\n"
          ]
        }
      ]
    },
    {
      "cell_type": "markdown",
      "source": [
        "#리스트 사용해서 반복하기"
      ],
      "metadata": {
        "id": "tziTGzHJ_bJE"
      }
    },
    {
      "cell_type": "code",
      "source": [
        "for 번호 in[1,2,'3','4444',[3,4,5]]:\n",
        "   print(f\"{번호}안녕하세요. 파이썬 수업시간입니다\")"
      ],
      "metadata": {
        "colab": {
          "base_uri": "https://localhost:8080/"
        },
        "id": "myklzgLP_eEb",
        "outputId": "f0cfe77f-c8b2-46bc-a4f6-9e9d64ad20d1"
      },
      "execution_count": null,
      "outputs": [
        {
          "output_type": "stream",
          "name": "stdout",
          "text": [
            "1안녕하세요. 파이썬 수업시간입니다\n",
            "2안녕하세요. 파이썬 수업시간입니다\n",
            "3안녕하세요. 파이썬 수업시간입니다\n",
            "4444안녕하세요. 파이썬 수업시간입니다\n",
            "[3, 4, 5]안녕하세요. 파이썬 수업시간입니다\n"
          ]
        }
      ]
    },
    {
      "cell_type": "markdown",
      "source": [
        "### 문자열을 이용해 반복하기"
      ],
      "metadata": {
        "id": "euuLAvhS_3rC"
      }
    },
    {
      "cell_type": "code",
      "source": [
        "for 번호 in'안녕하세요. 파이썬 수업시간입니다':\n",
        "   print(f\"{번호}안녕하세요. 파이썬 수업시간입니다\")"
      ],
      "metadata": {
        "colab": {
          "base_uri": "https://localhost:8080/"
        },
        "id": "_1zyf0zk__C5",
        "outputId": "dd898483-8fc0-490e-99c0-305516db2fb9"
      },
      "execution_count": null,
      "outputs": [
        {
          "output_type": "stream",
          "name": "stdout",
          "text": [
            "안안녕하세요. 파이썬 수업시간입니다\n",
            "녕안녕하세요. 파이썬 수업시간입니다\n",
            "하안녕하세요. 파이썬 수업시간입니다\n",
            "세안녕하세요. 파이썬 수업시간입니다\n",
            "요안녕하세요. 파이썬 수업시간입니다\n",
            ".안녕하세요. 파이썬 수업시간입니다\n",
            " 안녕하세요. 파이썬 수업시간입니다\n",
            "파안녕하세요. 파이썬 수업시간입니다\n",
            "이안녕하세요. 파이썬 수업시간입니다\n",
            "썬안녕하세요. 파이썬 수업시간입니다\n",
            " 안녕하세요. 파이썬 수업시간입니다\n",
            "수안녕하세요. 파이썬 수업시간입니다\n",
            "업안녕하세요. 파이썬 수업시간입니다\n",
            "시안녕하세요. 파이썬 수업시간입니다\n",
            "간안녕하세요. 파이썬 수업시간입니다\n",
            "입안녕하세요. 파이썬 수업시간입니다\n",
            "니안녕하세요. 파이썬 수업시간입니다\n",
            "다안녕하세요. 파이썬 수업시간입니다\n"
          ]
        }
      ]
    },
    {
      "cell_type": "code",
      "source": [
        "for 번호 in'student':\n",
        "   print(f\"{번호}안녕하세요. 파이썬 수업시간입니다\")"
      ],
      "metadata": {
        "id": "6HxDyR4gAScd"
      },
      "execution_count": null,
      "outputs": []
    },
    {
      "cell_type": "markdown",
      "source": [
        "#변수를 사용하지 않으려면 for **띄고** 언더바 **띄고** 사용!"
      ],
      "metadata": {
        "id": "XQzl1VSJAXCF"
      }
    },
    {
      "cell_type": "code",
      "source": [
        " for _ in range(0,5):\n",
        "  print('안녕하세요. 파이썬 수업시간입니다.')"
      ],
      "metadata": {
        "colab": {
          "base_uri": "https://localhost:8080/"
        },
        "id": "_JlhZlS5AWAW",
        "outputId": "19836fc0-d5f7-433a-a4a5-ebf4496fd645"
      },
      "execution_count": null,
      "outputs": [
        {
          "output_type": "stream",
          "name": "stdout",
          "text": [
            "안녕하세요. 파이썬 수업시간입니다.\n",
            "안녕하세요. 파이썬 수업시간입니다.\n",
            "안녕하세요. 파이썬 수업시간입니다.\n",
            "안녕하세요. 파이썬 수업시간입니다.\n",
            "안녕하세요. 파이썬 수업시간입니다.\n"
          ]
        }
      ]
    },
    {
      "cell_type": "markdown",
      "source": [
        "###1~100까지 합 구하기"
      ],
      "metadata": {
        "id": "0Gj-snvqBLLr"
      }
    },
    {
      "cell_type": "code",
      "source": [
        "hap=0\n",
        "for i in range(1,101,1):\n",
        "  hap += i\n",
        "print(f'1~100까지 정수의 합은 : {hap}')"
      ],
      "metadata": {
        "colab": {
          "base_uri": "https://localhost:8080/"
        },
        "id": "BLWJU4U9A32m",
        "outputId": "84074925-5523-4fb0-9a2a-aaeffa352547"
      },
      "execution_count": null,
      "outputs": [
        {
          "output_type": "stream",
          "name": "stdout",
          "text": [
            "1~100까지 정수의 합은 : 5050\n"
          ]
        }
      ]
    },
    {
      "cell_type": "code",
      "source": [
        "# sum()함수 사용해서 합 구하기\n",
        "sum(list(range(1,101,1)))"
      ],
      "metadata": {
        "colab": {
          "base_uri": "https://localhost:8080/"
        },
        "id": "x460mb3eBpMl",
        "outputId": "0a5ce82b-6198-444a-e57e-20d6e752b459"
      },
      "execution_count": null,
      "outputs": [
        {
          "output_type": "execute_result",
          "data": {
            "text/plain": [
              "5050"
            ]
          },
          "metadata": {},
          "execution_count": 13
        }
      ]
    },
    {
      "cell_type": "markdown",
      "source": [
        "#합계 구하기"
      ],
      "metadata": {
        "id": "8t7CoGfoFkgz"
      }
    },
    {
      "cell_type": "code",
      "source": [
        "a=[70,50,99,80,15,45,6,23,38,77]\n",
        "hap=0\n",
        "for i in a:\n",
        "  hap += i\n",
        "print(f'리스트{a}의 모든 요소의 합은 {hap}')"
      ],
      "metadata": {
        "colab": {
          "base_uri": "https://localhost:8080/"
        },
        "id": "PP2Cb8WHFiUc",
        "outputId": "0d995231-4a38-4071-b9c3-6457b5c14e2d"
      },
      "execution_count": null,
      "outputs": [
        {
          "output_type": "stream",
          "name": "stdout",
          "text": [
            "리스트[70, 50, 99, 80, 15, 45, 6, 23, 38, 77]의 모든 요소의 합은 503\n"
          ]
        }
      ]
    },
    {
      "cell_type": "code",
      "source": [
        "# sum(): 합계 /len() : 길이, 요소의 개수\n",
        "\n",
        "a=[70,50,99,80,15,45,6,23,38,77]\n",
        "print(f'리스트{a}의 모든 요소의 합은 {sum(a)}')\n",
        "print(f'리스트{a}의 모든 요소의 개수 {len(a)}')\n",
        "\n",
        "#max()/min()\n",
        "print(f'리스트 [a]의 모든 요소 중 제일 큰 수 {max(a)}')\n",
        "print(f'리스트 [a]의 모든 요소 중 제일 작은 수 {min(a)}')\n",
        "\n",
        "# 평균 구하기\n",
        "print(f' 리스트 {a}의 모든 요소의 평균은 {sum(a) / len(a)}')\n"
      ],
      "metadata": {
        "colab": {
          "base_uri": "https://localhost:8080/"
        },
        "id": "zFQVUNlUGN9e",
        "outputId": "840c570e-9ddd-4859-f044-929502d8565b"
      },
      "execution_count": null,
      "outputs": [
        {
          "output_type": "stream",
          "name": "stdout",
          "text": [
            "리스트[70, 50, 99, 80, 15, 45, 6, 23, 38, 77]의 모든 요소의 합은 503\n",
            "리스트[70, 50, 99, 80, 15, 45, 6, 23, 38, 77]의 모든 요소의 개수 10\n",
            "리스트 [a]의 모든 요소 중 제일 큰 수 99\n",
            "리스트 [a]의 모든 요소 중 제일 작은 수 6\n",
            " 리스트 [70, 50, 99, 80, 15, 45, 6, 23, 38, 77]의 모든 요소의 평균은 50.3\n"
          ]
        }
      ]
    },
    {
      "cell_type": "code",
      "source": [
        "#숫자n을 입력받아 for문을 이용하여 1~n까지의 합을 구하기\n",
        "\n",
        "n =int(input('합계를 구할 숫자 입력 :'))\n",
        "print(f\"1부터 {n}까지의 합은 {sum(list(range(1,n+1)))}\")\n"
      ],
      "metadata": {
        "colab": {
          "base_uri": "https://localhost:8080/"
        },
        "id": "vsC8dLtlGYsC",
        "outputId": "1ae16d9b-1be2-4d9c-f5a0-33c2945ff0f9"
      },
      "execution_count": null,
      "outputs": [
        {
          "output_type": "stream",
          "name": "stdout",
          "text": [
            "합계를 구할 숫자 입력 :155\n",
            "1부터 155까지의 합은 12090\n"
          ]
        }
      ]
    },
    {
      "cell_type": "code",
      "source": [
        "# 조건 판별 후 더하기\n",
        "n =int(input('합계를 구할 숫자를 입력하세요: '))\n",
        "hap=0\n",
        "for i in range(1,n+1):\n",
        "  if i%2 !=0: #짝수가 아니다\n",
        "   hap +=i #hap=hap+i\n",
        "   print(i)\n",
        "print(f'1~{n}까지 짝수를 제외한 합은 : {hap}')"
      ],
      "metadata": {
        "colab": {
          "base_uri": "https://localhost:8080/"
        },
        "id": "q_qEqG8nL8uc",
        "outputId": "1fd60904-0c23-4259-da80-a612be31f5fd"
      },
      "execution_count": null,
      "outputs": [
        {
          "output_type": "stream",
          "name": "stdout",
          "text": [
            "합계를 구할 숫자를 입력하세요: 10\n",
            "1\n",
            "3\n",
            "5\n",
            "7\n",
            "9\n",
            "1~10까지 짝수를 제외한 합은 : 25\n"
          ]
        }
      ]
    },
    {
      "cell_type": "code",
      "source": [
        "# 홀수면 1,3,5,7..이니까 그냥 숫자성질이용\n",
        "n =int(input('합계를 구할 숫자를 입력하세요: '))\n",
        "hap=0\n",
        "for i in range(1,n+1,2):\n",
        "   hap +=i #hap=hap+i\n",
        "   print(i)\n",
        "print(f'1~{n}까지 짝수를 제외한 합은 : {hap}')"
      ],
      "metadata": {
        "colab": {
          "base_uri": "https://localhost:8080/"
        },
        "id": "625DpD-mMx5E",
        "outputId": "6332d8b4-8d69-4897-d6b1-349b6d216b22"
      },
      "execution_count": null,
      "outputs": [
        {
          "output_type": "stream",
          "name": "stdout",
          "text": [
            "합계를 구할 숫자를 입력하세요: 11\n",
            "1\n",
            "3\n",
            "5\n",
            "7\n",
            "9\n",
            "11\n",
            "1~11까지 짝수를 제외한 합은 : 36\n"
          ]
        }
      ]
    },
    {
      "cell_type": "code",
      "source": [
        "#실습문제 : 소괄호 짝꿍 맞는지 True False 출력 ; 괄호 짝 맞으면 전체 합이 0 (알고리즘문제)\n",
        "\n",
        "a_list= list(input('괄호 : '))\n",
        "print(a_list)\n",
        "\n",
        "total=0  #괄호의 합\n",
        "for p in a_list:\n",
        "  if p == '(':\n",
        "    total += 1\n",
        "  elif p == ')':\n",
        "    total -= 1\n",
        "  if total<0:\n",
        "    break\n",
        "\n",
        "if total==0:\n",
        "  print('True')\n",
        "else:\n",
        "  print('False')\n",
        "\n"
      ],
      "metadata": {
        "colab": {
          "base_uri": "https://localhost:8080/"
        },
        "id": "15IwKjasNVbq",
        "outputId": "c261cbc0-db35-460f-8903-110c0b4ec2f8"
      },
      "execution_count": null,
      "outputs": [
        {
          "output_type": "stream",
          "name": "stdout",
          "text": [
            "괄호 : ()()()()))\n",
            "['(', ')', '(', ')', '(', ')', '(', ')', ')', ')']\n",
            "False\n"
          ]
        }
      ]
    },
    {
      "cell_type": "code",
      "source": [
        "a_list =list(input(\"괄호 :\")) # 근데 닫힌괄호부터 시작은 안잡힘\n",
        "\n",
        "for i in a_list:\n",
        "  print(i)\n",
        "a_list\n",
        "\n",
        "t=0\n",
        "for i in a_list:\n",
        "  if i ==\"(\":\n",
        "\n",
        "    t+=1\n",
        "  else:\n",
        "\n",
        "    t-=1\n",
        "\n",
        "if t ==0:\n",
        "  print(\"결과: True\")\n",
        "else:\n",
        "  print(\"결과: False\")"
      ],
      "metadata": {
        "colab": {
          "base_uri": "https://localhost:8080/"
        },
        "id": "J1tx_XB-TWt6",
        "outputId": "5fd830c2-2c5e-4325-cd56-0ef7fb13871d"
      },
      "execution_count": null,
      "outputs": [
        {
          "output_type": "stream",
          "name": "stdout",
          "text": [
            "괄호 :)(((()))))\n",
            ")\n",
            "(\n",
            "(\n",
            "(\n",
            "(\n",
            ")\n",
            ")\n",
            ")\n",
            ")\n",
            ")\n",
            "결과: False\n"
          ]
        }
      ]
    },
    {
      "cell_type": "code",
      "source": [
        "# 2~9단의 숫자를 입력받아 해당 구구단 출력\n",
        "n=int(input('구구단 단중 몇단을 출력 해드릴까요?:'))\n",
        "for i in range(1,10,):\n",
        "  print(f'{n} X {i} = {n*i:>2}')"
      ],
      "metadata": {
        "id": "e_-3Q-OCT4qM",
        "colab": {
          "base_uri": "https://localhost:8080/"
        },
        "outputId": "ee324806-18d6-4ae9-fb4a-755663980fa9"
      },
      "execution_count": 60,
      "outputs": [
        {
          "output_type": "stream",
          "name": "stdout",
          "text": [
            "구구단 단중 몇단을 출력 해드릴까요?:1\n",
            "1 X 1 =  1\n",
            "1 X 2 =  2\n",
            "1 X 3 =  3\n",
            "1 X 4 =  4\n",
            "1 X 5 =  5\n",
            "1 X 6 =  6\n",
            "1 X 7 =  7\n",
            "1 X 8 =  8\n",
            "1 X 9 =  9\n"
          ]
        }
      ]
    },
    {
      "cell_type": "code",
      "source": [
        "for i in range(5):\n",
        "  print(f'{i}', end=' ')"
      ],
      "metadata": {
        "colab": {
          "base_uri": "https://localhost:8080/"
        },
        "id": "glpnfZ4pWhWw",
        "outputId": "bae8b436-a23a-486b-a7d4-688d08f53d2f"
      },
      "execution_count": 63,
      "outputs": [
        {
          "output_type": "stream",
          "name": "stdout",
          "text": [
            "0 1 2 3 4 "
          ]
        }
      ]
    },
    {
      "cell_type": "code",
      "source": [
        "# 중첩문\n",
        "for i in range(5):\n",
        "  for k in range(3):\n",
        "   print(f'{i}:{k}')\n",
        "  print()"
      ],
      "metadata": {
        "colab": {
          "base_uri": "https://localhost:8080/"
        },
        "id": "QQu9MlotW23T",
        "outputId": "ed95e404-8295-422c-8910-a7b0615f3efc"
      },
      "execution_count": 67,
      "outputs": [
        {
          "output_type": "stream",
          "name": "stdout",
          "text": [
            "0:0\n",
            "0:1\n",
            "0:2\n",
            "\n",
            "1:0\n",
            "1:1\n",
            "1:2\n",
            "\n",
            "2:0\n",
            "2:1\n",
            "2:2\n",
            "\n",
            "3:0\n",
            "3:1\n",
            "3:2\n",
            "\n",
            "4:0\n",
            "4:1\n",
            "4:2\n",
            "\n"
          ]
        }
      ]
    },
    {
      "cell_type": "code",
      "source": [
        "# 중첩문\n",
        "for i in range(2,10):\n",
        "  print(f' #{i}단 ', end= ' ')\n",
        "print('\\n'+'-'*80)\n",
        "\n",
        "for i in range(1,10):\n",
        "  for k in range(2,10):\n",
        "   print(f'{k}X{i} = {i*k:>2}', end=\" \")\n",
        "  print()"
      ],
      "metadata": {
        "colab": {
          "base_uri": "https://localhost:8080/"
        },
        "id": "v0sJ85QrX0rx",
        "outputId": "7f309861-8a2d-407e-f506-8a043a4f2930"
      },
      "execution_count": 97,
      "outputs": [
        {
          "output_type": "stream",
          "name": "stdout",
          "text": [
            " #2단   #3단   #4단   #5단   #6단   #7단   #8단   #9단  \n",
            "--------------------------------------------------------------------------------\n",
            "2X1 =  2 3X1 =  3 4X1 =  4 5X1 =  5 6X1 =  6 7X1 =  7 8X1 =  8 9X1 =  9 \n",
            "2X2 =  4 3X2 =  6 4X2 =  8 5X2 = 10 6X2 = 12 7X2 = 14 8X2 = 16 9X2 = 18 \n",
            "2X3 =  6 3X3 =  9 4X3 = 12 5X3 = 15 6X3 = 18 7X3 = 21 8X3 = 24 9X3 = 27 \n",
            "2X4 =  8 3X4 = 12 4X4 = 16 5X4 = 20 6X4 = 24 7X4 = 28 8X4 = 32 9X4 = 36 \n",
            "2X5 = 10 3X5 = 15 4X5 = 20 5X5 = 25 6X5 = 30 7X5 = 35 8X5 = 40 9X5 = 45 \n",
            "2X6 = 12 3X6 = 18 4X6 = 24 5X6 = 30 6X6 = 36 7X6 = 42 8X6 = 48 9X6 = 54 \n",
            "2X7 = 14 3X7 = 21 4X7 = 28 5X7 = 35 6X7 = 42 7X7 = 49 8X7 = 56 9X7 = 63 \n",
            "2X8 = 16 3X8 = 24 4X8 = 32 5X8 = 40 6X8 = 48 7X8 = 56 8X8 = 64 9X8 = 72 \n",
            "2X9 = 18 3X9 = 27 4X9 = 36 5X9 = 45 6X9 = 54 7X9 = 63 8X9 = 72 9X9 = 81 \n"
          ]
        }
      ]
    },
    {
      "cell_type": "code",
      "source": [
        "for i in range(2,10):\n",
        "  print(f'# {i}단 ', end=' ')\n",
        "# print()  # '\\n'\n",
        "print('\\n'+'-'*60)\n",
        "\n",
        "for i in range(1,10):\n",
        "  for k in range(2,10):\n",
        "    print(f'{k}x{i}={i*k:>2}', end=' ')\n",
        "  print()"
      ],
      "metadata": {
        "colab": {
          "base_uri": "https://localhost:8080/"
        },
        "id": "VwA9HSJGbfCc",
        "outputId": "0cbe4004-0599-4289-f3fb-cab1dbcc9c61"
      },
      "execution_count": 92,
      "outputs": [
        {
          "output_type": "stream",
          "name": "stdout",
          "text": [
            "# 2단  # 3단  # 4단  # 5단  # 6단  # 7단  # 8단  # 9단  \n",
            "------------------------------------------------------------\n",
            "2x1= 2 3x1= 3 4x1= 4 5x1= 5 6x1= 6 7x1= 7 8x1= 8 9x1= 9 \n",
            "2x2= 4 3x2= 6 4x2= 8 5x2=10 6x2=12 7x2=14 8x2=16 9x2=18 \n",
            "2x3= 6 3x3= 9 4x3=12 5x3=15 6x3=18 7x3=21 8x3=24 9x3=27 \n",
            "2x4= 8 3x4=12 4x4=16 5x4=20 6x4=24 7x4=28 8x4=32 9x4=36 \n",
            "2x5=10 3x5=15 4x5=20 5x5=25 6x5=30 7x5=35 8x5=40 9x5=45 \n",
            "2x6=12 3x6=18 4x6=24 5x6=30 6x6=36 7x6=42 8x6=48 9x6=54 \n",
            "2x7=14 3x7=21 4x7=28 5x7=35 6x7=42 7x7=49 8x7=56 9x7=63 \n",
            "2x8=16 3x8=24 4x8=32 5x8=40 6x8=48 7x8=56 8x8=64 9x8=72 \n",
            "2x9=18 3x9=27 4x9=36 5x9=45 6x9=54 7x9=63 8x9=72 9x9=81 \n"
          ]
        }
      ]
    },
    {
      "cell_type": "code",
      "source": [
        "help(print)\n"
      ],
      "metadata": {
        "colab": {
          "base_uri": "https://localhost:8080/"
        },
        "id": "j7TI-bocbmDv",
        "outputId": "24a95053-d215-4407-e4e3-7717cd37c3b1"
      },
      "execution_count": 93,
      "outputs": [
        {
          "output_type": "stream",
          "name": "stdout",
          "text": [
            "Help on built-in function print in module builtins:\n",
            "\n",
            "print(...)\n",
            "    print(value, ..., sep=' ', end='\\n', file=sys.stdout, flush=False)\n",
            "    \n",
            "    Prints the values to a stream, or to sys.stdout by default.\n",
            "    Optional keyword arguments:\n",
            "    file:  a file-like object (stream); defaults to the current sys.stdout.\n",
            "    sep:   string inserted between values, default a space.\n",
            "    end:   string appended after the last value, default a newline.\n",
            "    flush: whether to forcibly flush the stream.\n",
            "\n"
          ]
        }
      ]
    },
    {
      "cell_type": "markdown",
      "source": [
        "#난수(random number)\n"
      ],
      "metadata": {
        "id": "qL4zL32stdPn"
      }
    },
    {
      "cell_type": "code",
      "source": [
        "import random\n",
        "# 임의의 정수\n",
        "print(random.randint(1,10))      #1~10 정수 중 하나 선택 :random.randrange(1,11,1)와 동일\n",
        "print(random.randrange(1,11,1))  #1~11미만 정수 중 하나 선택\n",
        "\n",
        "#임의의 실수\n",
        "print(random.random())      #0~1 사이의 임의의 실수\n",
        "print(random.uniform(0.5,1)) #start~end 사이의 임의의 실수\n",
        "\n",
        "#리스트 섞기\n",
        "a= [1,2,3,4,5,6,7,8,9,10]\n",
        "print(a)\n",
        "random.shuffle(a)\n",
        "print(a)\n",
        "\n",
        "#리스트 요소 중에 하나 선택하기\n",
        "print(random.choice(a))\n",
        "\n",
        "#리스트 요소 중에 여러개 선택하기\n",
        "print(random.sample(a,3))\n",
        "print('로또번호출력 :', random.sample(range(1,46),6))\n",
        "sorted(random.sample(range(1,46),6)) # 숫자 오름차순 정렬"
      ],
      "metadata": {
        "colab": {
          "base_uri": "https://localhost:8080/"
        },
        "id": "6IDlBV3VZh0o",
        "outputId": "4b444343-80c8-4ffe-c147-0c2ab79c9913"
      },
      "execution_count": 117,
      "outputs": [
        {
          "output_type": "stream",
          "name": "stdout",
          "text": [
            "5\n",
            "7\n",
            "0.14355956282588567\n",
            "0.8463087178042699\n",
            "[1, 2, 3, 4, 5, 6, 7, 8, 9, 10]\n",
            "[1, 7, 9, 10, 2, 4, 5, 3, 8, 6]\n",
            "9\n",
            "[8, 5, 7]\n",
            "로또번호출력 : [30, 29, 26, 4, 38, 3]\n"
          ]
        },
        {
          "output_type": "execute_result",
          "data": {
            "text/plain": [
              "[8, 9, 18, 21, 25, 33]"
            ]
          },
          "metadata": {},
          "execution_count": 117
        }
      ]
    },
    {
      "cell_type": "code",
      "source": [
        "print('주사위 던지기 게임입니다.')\n",
        "\n",
        "for i in range(1,6):\n",
        "  print(f'--{i}번째 시도'+'-'*15)\n",
        "  a=random.sample(range(1,7),2)\n",
        "  print(list(a))\n",
        "\n",
        "\n",
        "\n",
        "\n"
      ],
      "metadata": {
        "colab": {
          "base_uri": "https://localhost:8080/"
        },
        "id": "D_OOOL_4zpDt",
        "outputId": "d754b9ef-f280-4e2d-ea53-9e8b048ce765"
      },
      "execution_count": 129,
      "outputs": [
        {
          "output_type": "stream",
          "name": "stdout",
          "text": [
            "주사위 던지기 게임입니다.\n",
            "--1번째 시도---------------\n",
            "[1, 6]\n",
            "--2번째 시도---------------\n",
            "[4, 3]\n",
            "--3번째 시도---------------\n",
            "[2, 5]\n",
            "--4번째 시도---------------\n",
            "[1, 5]\n",
            "--5번째 시도---------------\n",
            "[6, 1]\n"
          ]
        }
      ]
    },
    {
      "cell_type": "code",
      "source": [
        "print('주사위를 5번 던져서 비교하는 프로그램입니다.')\n",
        "\n",
        "for n in range (1,6):\n",
        "  print(f'-----{n}번째 시도입니다.')\n",
        "  a=random.randint(1,6)\n",
        "  b=random.randint(1,6)\n",
        "\n",
        "  print(f'A 결과: [{a}], B 결과:[{b}]')\n",
        "  if a>b:\n",
        "    print('A가 이겼습니다.')\n",
        "  elif a==b:\n",
        "      print('A와 B가 비겼습니다.')\n",
        "  else:\n",
        "      print('B가 이겼습니다.')"
      ],
      "metadata": {
        "colab": {
          "base_uri": "https://localhost:8080/"
        },
        "id": "Xw0ApgzN21TZ",
        "outputId": "fbebbf2f-b028-4443-b0cf-537137a6c1ac"
      },
      "execution_count": 132,
      "outputs": [
        {
          "output_type": "stream",
          "name": "stdout",
          "text": [
            "주사위를 5번 던져서 비교하는 프로그램입니다.\n",
            "-----1번째 시도입니다.\n",
            "A 결과: [6], B 결과:[1]\n",
            "A가 이겼습니다.\n",
            "-----2번째 시도입니다.\n",
            "A 결과: [6], B 결과:[3]\n",
            "A가 이겼습니다.\n",
            "-----3번째 시도입니다.\n",
            "A 결과: [2], B 결과:[3]\n",
            "B가 이겼습니다.\n",
            "-----4번째 시도입니다.\n",
            "A 결과: [5], B 결과:[1]\n",
            "A가 이겼습니다.\n",
            "-----5번째 시도입니다.\n",
            "A 결과: [4], B 결과:[1]\n",
            "A가 이겼습니다.\n"
          ]
        }
      ]
    },
    {
      "cell_type": "code",
      "source": [
        "# 주사위 100번 던져서 숫자들 별로 카운트하고 가장 많이 나온 숫자 찾기\n",
        "for i in range(100):\n",
        " num = random.randint(1,6)\n",
        " print(f'가장많이 나온 숫자:',f'{count(a)}')\n",
        "\n",
        "\n"
      ],
      "metadata": {
        "id": "5X51lpy73a3e"
      },
      "execution_count": null,
      "outputs": []
    },
    {
      "cell_type": "code",
      "source": [
        "# 주사위 100번 던져서 숫자들 별로 카운트하고 가장 많이 나온 숫자 찾기\n",
        "\n",
        "import random\n",
        "\n",
        "d1,d2,d3,d4,d5,d6 = 0,0,0,0,0,0\n",
        "for i in range(100):\n",
        "  num= random.randint(1,6)\n",
        "  if num==1: d1 +=1\n",
        "  if num==2: d2 +=1\n",
        "  if num==3: d3 +=1\n",
        "  if num==4: d4 +=1\n",
        "  if num==5: d5 +=1\n",
        "  if num==6: d6 +=1\n",
        "\n",
        "print(f'주사위 숫자별 개수: D1[{d1}],D2[{d2}],D3[{d3}],D4[{d4}],D5[{d5}],D6[{d6}]')"
      ],
      "metadata": {
        "colab": {
          "base_uri": "https://localhost:8080/"
        },
        "id": "Zoc7XobB5b3v",
        "outputId": "d0e38675-064b-4360-c31b-c06ed0020ba9"
      },
      "execution_count": 137,
      "outputs": [
        {
          "output_type": "stream",
          "name": "stdout",
          "text": [
            "주사위 숫자별 개수: D1[19],D2[18],D3[15],D4[16],D5[16],D6[16]\n"
          ]
        }
      ]
    },
    {
      "cell_type": "code",
      "source": [
        "import random\n",
        "\n",
        "dice = [0,0,0,0,0,0]\n",
        "for i in range(10):\n",
        "  num = random.randint(1,6)\n",
        "  dice[num - 1 ] = dice[num-1] +1  #리스트 지정값에서 쉽게 추출 (인덱스별 지정 카운팅)\n",
        "  print(f'{i+1}회 시도 - 나온 수({num}), 주사위: {dice}')"
      ],
      "metadata": {
        "colab": {
          "base_uri": "https://localhost:8080/"
        },
        "id": "Pei4Vp0k6swp",
        "outputId": "698679ad-f688-421b-fc51-d5ad689185f0"
      },
      "execution_count": 140,
      "outputs": [
        {
          "output_type": "stream",
          "name": "stdout",
          "text": [
            "1회 시도 - 나온 수(4), 주사위: [0, 0, 0, 1, 0, 0]\n",
            "2회 시도 - 나온 수(4), 주사위: [0, 0, 0, 2, 0, 0]\n",
            "3회 시도 - 나온 수(2), 주사위: [0, 1, 0, 2, 0, 0]\n",
            "4회 시도 - 나온 수(3), 주사위: [0, 1, 1, 2, 0, 0]\n",
            "5회 시도 - 나온 수(4), 주사위: [0, 1, 1, 3, 0, 0]\n",
            "6회 시도 - 나온 수(1), 주사위: [1, 1, 1, 3, 0, 0]\n",
            "7회 시도 - 나온 수(1), 주사위: [2, 1, 1, 3, 0, 0]\n",
            "8회 시도 - 나온 수(2), 주사위: [2, 2, 1, 3, 0, 0]\n",
            "9회 시도 - 나온 수(5), 주사위: [2, 2, 1, 3, 1, 0]\n",
            "10회 시도 - 나온 수(1), 주사위: [3, 2, 1, 3, 1, 0]\n"
          ]
        }
      ]
    },
    {
      "cell_type": "code",
      "source": [
        "import random\n",
        "\n",
        "dice = [0,0,0,0,0,0]\n",
        "for i in range(100):\n",
        "  num = random.randint(1, 6)\n",
        "  dice[num-1] = dice[num-1] + 1\n",
        "  #print(f'{i+1}회 시도 - 나온 수({num}), 주사위:{dice}')\n",
        "\n",
        "print(f'주사위 숫자의 나온 횟수: {dice}')\n",
        "print(f'가장 많이 {max(dice)} 번 나온 주사위 숫자는: {dice.index(max(dice) )+1}')"
      ],
      "metadata": {
        "colab": {
          "base_uri": "https://localhost:8080/"
        },
        "id": "d95MKm6X8-CR",
        "outputId": "300521d7-321c-42d8-9df1-4117917a5bf3"
      },
      "execution_count": 147,
      "outputs": [
        {
          "output_type": "stream",
          "name": "stdout",
          "text": [
            "주사위 숫자의 나온 횟수: [23, 14, 11, 19, 16, 17]\n",
            "가장 많이 23 번 나온 주사위 숫자는: 1\n"
          ]
        }
      ]
    },
    {
      "cell_type": "code",
      "source": [
        "treeHit=0\n",
        "while treeHit<10:\n",
        "   treeHit=treeHit+1\n",
        "   print(f'나무를 {treeHit}번 찍었습니다.')\n",
        "if treeHit == 10:\n",
        "  print('나무 넘어 갑니다~')\n"
      ],
      "metadata": {
        "colab": {
          "base_uri": "https://localhost:8080/"
        },
        "id": "xuF-VXIHHxPu",
        "outputId": "046987f8-e9ac-40c0-99aa-ea83be2e4df0"
      },
      "execution_count": 158,
      "outputs": [
        {
          "output_type": "stream",
          "name": "stdout",
          "text": [
            "나무를 1번 찍었습니다.\n",
            "나무를 2번 찍었습니다.\n",
            "나무를 3번 찍었습니다.\n",
            "나무를 4번 찍었습니다.\n",
            "나무를 5번 찍었습니다.\n",
            "나무를 6번 찍었습니다.\n",
            "나무를 7번 찍었습니다.\n",
            "나무를 8번 찍었습니다.\n",
            "나무를 9번 찍었습니다.\n",
            "나무를 10번 찍었습니다.\n",
            "나무 넘어 갑니다~\n"
          ]
        }
      ]
    },
    {
      "cell_type": "code",
      "source": [
        "\n",
        "treeHit = 0\n",
        "while treeHit < 10:\n",
        "  treeHit +=1\n",
        "  print(f'나무를 {treeHit}번 찍었습니다')"
      ],
      "metadata": {
        "colab": {
          "base_uri": "https://localhost:8080/"
        },
        "id": "CiUU49n1J6jB",
        "outputId": "5ff965e2-0ef9-4186-a65b-15047a601c13"
      },
      "execution_count": 173,
      "outputs": [
        {
          "output_type": "stream",
          "name": "stdout",
          "text": [
            "나무를 1번 찍었습니다\n",
            "나무를 2번 찍었습니다\n",
            "나무를 3번 찍었습니다\n",
            "나무를 4번 찍었습니다\n",
            "나무를 5번 찍었습니다\n",
            "나무를 6번 찍었습니다\n",
            "나무를 7번 찍었습니다\n",
            "나무를 8번 찍었습니다\n",
            "나무를 9번 찍었습니다\n",
            "나무를 10번 찍었습니다\n"
          ]
        }
      ]
    },
    {
      "cell_type": "code",
      "source": [
        "treeHit = 0\n",
        "while True:\n",
        "  treeHit += 1\n",
        "  print(f'나무를 {treeHit}번 찍었습니다.')\n",
        "  if treeHit == 10 : break\n",
        "print('나무 넘어간다!')\n"
      ],
      "metadata": {
        "colab": {
          "base_uri": "https://localhost:8080/"
        },
        "id": "TAo4g7DeKkX0",
        "outputId": "8e95b8d4-fc67-4126-a008-091a81366bf7"
      },
      "execution_count": 170,
      "outputs": [
        {
          "output_type": "stream",
          "name": "stdout",
          "text": [
            "나무를 1번 찍었습니다.\n",
            "나무를 2번 찍었습니다.\n",
            "나무를 3번 찍었습니다.\n",
            "나무를 4번 찍었습니다.\n",
            "나무를 5번 찍었습니다.\n",
            "나무를 6번 찍었습니다.\n",
            "나무를 7번 찍었습니다.\n",
            "나무를 8번 찍었습니다.\n",
            "나무를 9번 찍었습니다.\n",
            "나무를 10번 찍었습니다.\n",
            "나무 넘어간다!\n"
          ]
        }
      ]
    },
    {
      "cell_type": "markdown",
      "source": [
        "###[실습문제] 무한반복 코드 빠져나오기"
      ],
      "metadata": {
        "id": "vBiMpQP2LfQ1"
      }
    },
    {
      "cell_type": "code",
      "source": [
        "#조건문에 맞으면 프로그램 빠져나오기\n",
        "prompt = \"\"\"\n",
        "  1.추가 2.삭제 3.수정 4. 종료\n",
        "  번호를 입력해주세요: \"\"\"\n",
        "num = ''\n",
        "while num != '4':\n",
        "  num = input(prompt)\n",
        "print('program finish!')"
      ],
      "metadata": {
        "colab": {
          "base_uri": "https://localhost:8080/"
        },
        "id": "G_0r4C9mLW6F",
        "outputId": "b4cae1c9-0bcb-4ba0-9798-f59c49a62660"
      },
      "execution_count": 174,
      "outputs": [
        {
          "output_type": "stream",
          "name": "stdout",
          "text": [
            "\n",
            "  1.추가 2.삭제 3.수정 4. 종료\n",
            "  번호를 입력해주세요: 1\n",
            "\n",
            "  1.추가 2.삭제 3.수정 4. 종료\n",
            "  번호를 입력해주세요: 2\n",
            "\n",
            "  1.추가 2.삭제 3.수정 4. 종료\n",
            "  번호를 입력해주세요: 3\n",
            "\n",
            "  1.추가 2.삭제 3.수정 4. 종료\n",
            "  번호를 입력해주세요: 3\n",
            "\n",
            "  1.추가 2.삭제 3.수정 4. 종료\n",
            "  번호를 입력해주세요: 4\n",
            "program finish!\n"
          ]
        }
      ]
    },
    {
      "cell_type": "code",
      "source": [
        "\n",
        "prompt = \"\"\"\n",
        "  1.추가 2.삭제 3.수정 4. 종료\n",
        "  번호를 입력해주세요: \"\"\"\n",
        "num = ''\n",
        "while True:\n",
        "  num = input(prompt)\n",
        "  if num == '4' : break #이게 꼭 있어야됨\n",
        "print('program finish!')"
      ],
      "metadata": {
        "colab": {
          "base_uri": "https://localhost:8080/"
        },
        "id": "m7rKh3krM1rg",
        "outputId": "842a1a6d-53fe-47c1-95f8-40eba7e9d51a"
      },
      "execution_count": 175,
      "outputs": [
        {
          "output_type": "stream",
          "name": "stdout",
          "text": [
            "\n",
            "  1.추가 2.삭제 3.수정 4. 종료\n",
            "  번호를 입력해주세요: 4\n",
            "program finish!\n"
          ]
        }
      ]
    },
    {
      "cell_type": "code",
      "source": [
        "### [실습문제] 커피 주문 프로그램  반복문 이용해서 업그레이드 하기-------\n",
        "#커피 주문 프로그램  반복문 이용해서 거스름돈 > 0까지 돈을 넣으라고 반복하기\n",
        "\n",
        "coffee1_price = 2500\n",
        "coffee2_price = 3000\n",
        "coffee3_price = 3000\n",
        "menu = f'''[커피 자동주문 머신 메뉴]\n",
        "------------------------\n",
        "- 아메리카노:  {coffee1_price}원\n",
        "- 카페라떼:    {coffee2_price}원\n",
        "- 카푸치노:    {coffee3_price}원\n",
        "------------------------\n",
        "원하시는 커피종류와 잔수를 입력하세요!\n",
        "'''\n",
        "print(menu)\n",
        "coffee1 = int(input('아메리카노 몇잔: '))\n",
        "coffee2 = int(input('카페라떼   몇잔: '))\n",
        "coffee3 = int(input('카푸치노   몇잔: '))\n",
        "total = coffee1_price*coffee1 + coffee2_price*coffee2 + coffee3_price*coffee3\n",
        "print(f'주문하신 총 가격은 {total}원 입니다.')\n",
        "\n",
        "money = int(input('돈을 입력해주세요: '))\n",
        "while True:\n",
        "  total > money\n",
        "  print(f'{total-money}원이 부족합니다. 돈을 더 넣어주세요.')\n",
        "  print('-'*30)\n",
        "\n",
        " total\n",
        "if total<= money:\n",
        "  print(f'거스름돈은 {abs(total-money)}원 입니다. 커피 맛있게 드세요~')\n"
      ],
      "metadata": {
        "colab": {
          "base_uri": "https://localhost:8080/",
          "height": 689
        },
        "id": "ilQjDjNiNnnc",
        "outputId": "9b23832c-3d55-4b90-f590-7e0543fe6ab4"
      },
      "execution_count": 195,
      "outputs": [
        {
          "name": "stdout",
          "output_type": "stream",
          "text": [
            "[커피 자동주문 머신 메뉴]\n",
            "------------------------\n",
            "- 아메리카노:  2500원\n",
            "- 카페라떼:    3000원\n",
            "- 카푸치노:    3000원\n",
            "------------------------\n",
            "원하시는 커피종류와 잔수를 입력하세요!\n",
            "\n",
            "아메리카노 몇잔: 1\n",
            "카페라떼   몇잔: 0\n",
            "카푸치노   몇잔: 0\n",
            "주문하신 총 가격은 2500원 입니다.\n",
            "돈을 입력해주세요: 2000\n",
            "돈을 입력해주세요: 2000\n",
            "돈을 입력해주세요: 500\n"
          ]
        },
        {
          "output_type": "error",
          "ename": "KeyboardInterrupt",
          "evalue": "ignored",
          "traceback": [
            "\u001b[0;31m---------------------------------------------------------------------------\u001b[0m",
            "\u001b[0;31mKeyboardInterrupt\u001b[0m                         Traceback (most recent call last)",
            "\u001b[0;32m<ipython-input-195-8e6b400c89cd>\u001b[0m in \u001b[0;36m<cell line: 28>\u001b[0;34m()\u001b[0m\n\u001b[1;32m     27\u001b[0m \u001b[0;31m#   print(f'거스름돈은 {abs(total-money)}원 입니다. 커피 맛있게 드세요~')\u001b[0m\u001b[0;34m\u001b[0m\u001b[0;34m\u001b[0m\u001b[0m\n\u001b[1;32m     28\u001b[0m \u001b[0;32mwhile\u001b[0m \u001b[0;32mTrue\u001b[0m\u001b[0;34m:\u001b[0m\u001b[0;34m\u001b[0m\u001b[0;34m\u001b[0m\u001b[0m\n\u001b[0;32m---> 29\u001b[0;31m   \u001b[0mmoney\u001b[0m \u001b[0;34m=\u001b[0m \u001b[0mint\u001b[0m\u001b[0;34m(\u001b[0m\u001b[0minput\u001b[0m\u001b[0;34m(\u001b[0m\u001b[0;34m'돈을 입력해주세요: '\u001b[0m\u001b[0;34m)\u001b[0m\u001b[0;34m)\u001b[0m\u001b[0;34m\u001b[0m\u001b[0;34m\u001b[0m\u001b[0m\n\u001b[0m\u001b[1;32m     30\u001b[0m \u001b[0;32mif\u001b[0m \u001b[0mtotal\u001b[0m \u001b[0;34m>\u001b[0m \u001b[0mmoney\u001b[0m\u001b[0;34m:\u001b[0m\u001b[0;34m\u001b[0m\u001b[0;34m\u001b[0m\u001b[0m\n\u001b[1;32m     31\u001b[0m     \u001b[0mprint\u001b[0m\u001b[0;34m(\u001b[0m\u001b[0;34mf'{total-money}원이 부족합니다. 돈을 더 넣어주세요.'\u001b[0m\u001b[0;34m)\u001b[0m\u001b[0;34m\u001b[0m\u001b[0;34m\u001b[0m\u001b[0m\n",
            "\u001b[0;32m/usr/local/lib/python3.10/dist-packages/ipykernel/kernelbase.py\u001b[0m in \u001b[0;36mraw_input\u001b[0;34m(self, prompt)\u001b[0m\n\u001b[1;32m    849\u001b[0m                 \u001b[0;34m\"raw_input was called, but this frontend does not support input requests.\"\u001b[0m\u001b[0;34m\u001b[0m\u001b[0;34m\u001b[0m\u001b[0m\n\u001b[1;32m    850\u001b[0m             )\n\u001b[0;32m--> 851\u001b[0;31m         return self._input_request(str(prompt),\n\u001b[0m\u001b[1;32m    852\u001b[0m             \u001b[0mself\u001b[0m\u001b[0;34m.\u001b[0m\u001b[0m_parent_ident\u001b[0m\u001b[0;34m,\u001b[0m\u001b[0;34m\u001b[0m\u001b[0;34m\u001b[0m\u001b[0m\n\u001b[1;32m    853\u001b[0m             \u001b[0mself\u001b[0m\u001b[0;34m.\u001b[0m\u001b[0m_parent_header\u001b[0m\u001b[0;34m,\u001b[0m\u001b[0;34m\u001b[0m\u001b[0;34m\u001b[0m\u001b[0m\n",
            "\u001b[0;32m/usr/local/lib/python3.10/dist-packages/ipykernel/kernelbase.py\u001b[0m in \u001b[0;36m_input_request\u001b[0;34m(self, prompt, ident, parent, password)\u001b[0m\n\u001b[1;32m    893\u001b[0m             \u001b[0;32mexcept\u001b[0m \u001b[0mKeyboardInterrupt\u001b[0m\u001b[0;34m:\u001b[0m\u001b[0;34m\u001b[0m\u001b[0;34m\u001b[0m\u001b[0m\n\u001b[1;32m    894\u001b[0m                 \u001b[0;31m# re-raise KeyboardInterrupt, to truncate traceback\u001b[0m\u001b[0;34m\u001b[0m\u001b[0;34m\u001b[0m\u001b[0m\n\u001b[0;32m--> 895\u001b[0;31m                 \u001b[0;32mraise\u001b[0m \u001b[0mKeyboardInterrupt\u001b[0m\u001b[0;34m(\u001b[0m\u001b[0;34m\"Interrupted by user\"\u001b[0m\u001b[0;34m)\u001b[0m \u001b[0;32mfrom\u001b[0m \u001b[0;32mNone\u001b[0m\u001b[0;34m\u001b[0m\u001b[0;34m\u001b[0m\u001b[0m\n\u001b[0m\u001b[1;32m    896\u001b[0m             \u001b[0;32mexcept\u001b[0m \u001b[0mException\u001b[0m \u001b[0;32mas\u001b[0m \u001b[0me\u001b[0m\u001b[0;34m:\u001b[0m\u001b[0;34m\u001b[0m\u001b[0;34m\u001b[0m\u001b[0m\n\u001b[1;32m    897\u001b[0m                 \u001b[0mself\u001b[0m\u001b[0;34m.\u001b[0m\u001b[0mlog\u001b[0m\u001b[0;34m.\u001b[0m\u001b[0mwarning\u001b[0m\u001b[0;34m(\u001b[0m\u001b[0;34m\"Invalid Message:\"\u001b[0m\u001b[0;34m,\u001b[0m \u001b[0mexc_info\u001b[0m\u001b[0;34m=\u001b[0m\u001b[0;32mTrue\u001b[0m\u001b[0;34m)\u001b[0m\u001b[0;34m\u001b[0m\u001b[0;34m\u001b[0m\u001b[0m\n",
            "\u001b[0;31mKeyboardInterrupt\u001b[0m: Interrupted by user"
          ]
        }
      ]
    },
    {
      "cell_type": "code",
      "source": [
        "coffee1_price = 2500\n",
        "coffee2_price = 3000\n",
        "coffee3_price = 3000\n",
        "menu = f'''[커피 자동주문 머신 메뉴]\n",
        "------------------------\n",
        "- 아메리카노:  {coffee1_price}원\n",
        "- 카페라떼:    {coffee2_price}원\n",
        "- 카푸치노:    {coffee3_price}원\n",
        "------------------------\n",
        "원하시는 커피종류와 잔수를 입력하세요!\n",
        "'''\n",
        "print(menu)\n",
        "coffee1 = int(input('아메리카노 몇 잔: '))\n",
        "coffee2 = int(input('카페라떼   몇 잔: '))\n",
        "coffee3 = int(input('카푸치노   몇 잔: '))\n",
        "total = coffee1_price * coffee1 + coffee2_price * coffee2 + coffee3_price * coffee3\n",
        "print(f'주문하신 총 가격은 {total}원 입니다.')\n",
        "\n",
        "while True:\n",
        "    money = int(input('돈을 입력해주세요: '))\n",
        "    change = total - money\n",
        "    total = change\n",
        "    if change > 0:\n",
        "        print(f'입력한 금액이 부족합니다.{change}원을 더 넣어주세요.')\n",
        "    else:\n",
        "        print(f'거스름돈은 {abs(change)}원 입니다. 커피 맛있게 드세요~')\n",
        "        break\n",
        ""
      ],
      "metadata": {
        "colab": {
          "base_uri": "https://localhost:8080/"
        },
        "id": "tDUrh6HjRxZp",
        "outputId": "e8b2cd38-fc05-49ce-c858-65aaeefdd080"
      },
      "execution_count": 202,
      "outputs": [
        {
          "output_type": "stream",
          "name": "stdout",
          "text": [
            "[커피 자동주문 머신 메뉴]\n",
            "------------------------\n",
            "- 아메리카노:  2500원\n",
            "- 카페라떼:    3000원\n",
            "- 카푸치노:    3000원\n",
            "------------------------\n",
            "원하시는 커피종류와 잔수를 입력하세요!\n",
            "\n",
            "아메리카노 몇 잔: 0\n",
            "카페라떼   몇 잔: 1\n",
            "카푸치노   몇 잔: 1\n",
            "주문하신 총 가격은 6000원 입니다.\n",
            "돈을 입력해주세요: 5000\n",
            "입력한 금액이 부족합니다.1000원을 더 넣어주세요.\n",
            "돈을 입력해주세요: 1000\n",
            "거스름돈은 0원 입니다. 커피 맛있게 드세요~\n"
          ]
        }
      ]
    },
    {
      "cell_type": "code",
      "source": [],
      "metadata": {
        "id": "IXlz1P_SQhAM"
      },
      "execution_count": null,
      "outputs": []
    }
  ]
}