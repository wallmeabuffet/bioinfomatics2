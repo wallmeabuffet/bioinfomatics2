{
  "nbformat": 4,
  "nbformat_minor": 0,
  "metadata": {
    "colab": {
      "provenance": [],
      "authorship_tag": "ABX9TyOiZqbemulhwj6kstsEeV/U",
      "include_colab_link": true
    },
    "kernelspec": {
      "name": "python3",
      "display_name": "Python 3"
    },
    "language_info": {
      "name": "python"
    }
  },
  "cells": [
    {
      "cell_type": "markdown",
      "metadata": {
        "id": "view-in-github",
        "colab_type": "text"
      },
      "source": [
        "<a href=\"https://colab.research.google.com/github/wallmeabuffet/bioinfomatics2/blob/main/4%EC%9D%BC%EC%B0%A8_%EC%8B%A4%EC%8A%B5.ipynb\" target=\"_parent\"><img src=\"https://colab.research.google.com/assets/colab-badge.svg\" alt=\"Open In Colab\"/></a>"
      ]
    },
    {
      "cell_type": "code",
      "execution_count": 5,
      "metadata": {
        "colab": {
          "base_uri": "https://localhost:8080/"
        },
        "id": "DtZP9qu5_aqL",
        "outputId": "b168b3be-e762-437a-8984-9b7931d21348"
      },
      "outputs": [
        {
          "output_type": "stream",
          "name": "stdout",
          "text": [
            "91\n",
            "비밀의 숫자가 지정되었습니다\n"
          ]
        }
      ],
      "source": [
        "import random\n",
        "s =random.randint(1,101)\n",
        "print('비밀의 숫자가 지정되었습니다')\n",
        "\n",
        "while True:\n",
        "  a  = 0\n",
        "  a += 1\n",
        "  print(input('숫자를 입력하세요 : '))\n",
        "  if\n",
        "    print()\n",
        "\n",
        "\n",
        "\n",
        "\n"
      ]
    },
    {
      "cell_type": "markdown",
      "source": [
        "###[복습문제] 비밀의 숫자 맞추기"
      ],
      "metadata": {
        "id": "wmakuk5pDyf0"
      }
    },
    {
      "cell_type": "code",
      "source": [
        "###[복습문제] 비밀의 숫자 맞추기\n",
        "import random\n",
        "\n",
        "secretNbr = random.randint(1,100) #1~100사이의 수\n",
        "print('-'*30)\n",
        "print('비밀의 숫자가 지정되었습니다')\n",
        "print('-'*30)\n",
        "tryCnt = 0\n",
        "\n",
        "while True:\n",
        "  guessNbr = int(input('당신이 생각하는 비밀의 수는?: '))\n",
        "  tryCnt += 1\n",
        "  if guessNbr == secretNbr:\n",
        "    print('축하합니다! 비밀의 수를 잘 맞췄습니다!')\n",
        "    break\n",
        "  elif guessNbr > scretNbr:\n",
        "    print('비밀의 수는 더 작은 수 입니다.')\n",
        "  else:\n",
        "    print('비밀의 수는 더 작은 수 입니다.')\n",
        "\n",
        "print(f'비밀의 숫자: {secretNbr}')\n",
        "print(f'당신의 시도횟수 : {tryCntr}')\n"
      ],
      "metadata": {
        "colab": {
          "base_uri": "https://localhost:8080/",
          "height": 467
        },
        "id": "gRTxhMKdDBi7",
        "outputId": "0f644891-9298-473c-d221-d81090a778aa"
      },
      "execution_count": 17,
      "outputs": [
        {
          "output_type": "stream",
          "name": "stdout",
          "text": [
            "------------------------------\n",
            "비밀의 숫자가 지정되었습니다\n",
            "------------------------------\n"
          ]
        },
        {
          "output_type": "error",
          "ename": "KeyboardInterrupt",
          "evalue": "ignored",
          "traceback": [
            "\u001b[0;31m---------------------------------------------------------------------------\u001b[0m",
            "\u001b[0;31mKeyboardInterrupt\u001b[0m                         Traceback (most recent call last)",
            "\u001b[0;32m<ipython-input-17-5546c855b22a>\u001b[0m in \u001b[0;36m<cell line: 10>\u001b[0;34m()\u001b[0m\n\u001b[1;32m      9\u001b[0m \u001b[0;34m\u001b[0m\u001b[0m\n\u001b[1;32m     10\u001b[0m \u001b[0;32mwhile\u001b[0m \u001b[0;32mTrue\u001b[0m\u001b[0;34m:\u001b[0m\u001b[0;34m\u001b[0m\u001b[0;34m\u001b[0m\u001b[0m\n\u001b[0;32m---> 11\u001b[0;31m   \u001b[0mguessNbr\u001b[0m \u001b[0;34m=\u001b[0m \u001b[0mint\u001b[0m\u001b[0;34m(\u001b[0m\u001b[0minput\u001b[0m\u001b[0;34m(\u001b[0m\u001b[0;34m'당신이 생각하는 비밀의 수는?: '\u001b[0m\u001b[0;34m)\u001b[0m\u001b[0;34m)\u001b[0m\u001b[0;34m\u001b[0m\u001b[0;34m\u001b[0m\u001b[0m\n\u001b[0m\u001b[1;32m     12\u001b[0m   \u001b[0mtryCnt\u001b[0m \u001b[0;34m+=\u001b[0m \u001b[0;36m1\u001b[0m\u001b[0;34m\u001b[0m\u001b[0;34m\u001b[0m\u001b[0m\n\u001b[1;32m     13\u001b[0m   \u001b[0;32mif\u001b[0m \u001b[0mguessNbr\u001b[0m \u001b[0;34m==\u001b[0m \u001b[0msecretNbr\u001b[0m\u001b[0;34m:\u001b[0m\u001b[0;34m\u001b[0m\u001b[0;34m\u001b[0m\u001b[0m\n",
            "\u001b[0;32m/usr/local/lib/python3.10/dist-packages/ipykernel/kernelbase.py\u001b[0m in \u001b[0;36mraw_input\u001b[0;34m(self, prompt)\u001b[0m\n\u001b[1;32m    849\u001b[0m                 \u001b[0;34m\"raw_input was called, but this frontend does not support input requests.\"\u001b[0m\u001b[0;34m\u001b[0m\u001b[0;34m\u001b[0m\u001b[0m\n\u001b[1;32m    850\u001b[0m             )\n\u001b[0;32m--> 851\u001b[0;31m         return self._input_request(str(prompt),\n\u001b[0m\u001b[1;32m    852\u001b[0m             \u001b[0mself\u001b[0m\u001b[0;34m.\u001b[0m\u001b[0m_parent_ident\u001b[0m\u001b[0;34m,\u001b[0m\u001b[0;34m\u001b[0m\u001b[0;34m\u001b[0m\u001b[0m\n\u001b[1;32m    853\u001b[0m             \u001b[0mself\u001b[0m\u001b[0;34m.\u001b[0m\u001b[0m_parent_header\u001b[0m\u001b[0;34m,\u001b[0m\u001b[0;34m\u001b[0m\u001b[0;34m\u001b[0m\u001b[0m\n",
            "\u001b[0;32m/usr/local/lib/python3.10/dist-packages/ipykernel/kernelbase.py\u001b[0m in \u001b[0;36m_input_request\u001b[0;34m(self, prompt, ident, parent, password)\u001b[0m\n\u001b[1;32m    893\u001b[0m             \u001b[0;32mexcept\u001b[0m \u001b[0mKeyboardInterrupt\u001b[0m\u001b[0;34m:\u001b[0m\u001b[0;34m\u001b[0m\u001b[0;34m\u001b[0m\u001b[0m\n\u001b[1;32m    894\u001b[0m                 \u001b[0;31m# re-raise KeyboardInterrupt, to truncate traceback\u001b[0m\u001b[0;34m\u001b[0m\u001b[0;34m\u001b[0m\u001b[0m\n\u001b[0;32m--> 895\u001b[0;31m                 \u001b[0;32mraise\u001b[0m \u001b[0mKeyboardInterrupt\u001b[0m\u001b[0;34m(\u001b[0m\u001b[0;34m\"Interrupted by user\"\u001b[0m\u001b[0;34m)\u001b[0m \u001b[0;32mfrom\u001b[0m \u001b[0;32mNone\u001b[0m\u001b[0;34m\u001b[0m\u001b[0;34m\u001b[0m\u001b[0m\n\u001b[0m\u001b[1;32m    896\u001b[0m             \u001b[0;32mexcept\u001b[0m \u001b[0mException\u001b[0m \u001b[0;32mas\u001b[0m \u001b[0me\u001b[0m\u001b[0;34m:\u001b[0m\u001b[0;34m\u001b[0m\u001b[0;34m\u001b[0m\u001b[0m\n\u001b[1;32m    897\u001b[0m                 \u001b[0mself\u001b[0m\u001b[0;34m.\u001b[0m\u001b[0mlog\u001b[0m\u001b[0;34m.\u001b[0m\u001b[0mwarning\u001b[0m\u001b[0;34m(\u001b[0m\u001b[0;34m\"Invalid Message:\"\u001b[0m\u001b[0;34m,\u001b[0m \u001b[0mexc_info\u001b[0m\u001b[0;34m=\u001b[0m\u001b[0;32mTrue\u001b[0m\u001b[0;34m)\u001b[0m\u001b[0;34m\u001b[0m\u001b[0;34m\u001b[0m\u001b[0m\n",
            "\u001b[0;31mKeyboardInterrupt\u001b[0m: Interrupted by user"
          ]
        }
      ]
    },
    {
      "cell_type": "code",
      "source": [
        "length = int(input('공의 높이를 입력하세요(meter) : '))\n",
        "meter,cnt=length , 0\n",
        "\n",
        "while True:\n",
        "  meter /=2\n",
        "  if meter <0.00001:\n",
        "    break\n",
        "  cnt += 1\n",
        "print(f'{length}m 위치에서 공의 튕긴 횟수는 총 {cnt}번입니다.')\n",
        ""
      ],
      "metadata": {
        "colab": {
          "base_uri": "https://localhost:8080/"
        },
        "id": "G5LJSsZtGpdD",
        "outputId": "2d0dc3f1-66a8-4766-c983-25754c8a61a4"
      },
      "execution_count": 19,
      "outputs": [
        {
          "output_type": "stream",
          "name": "stdout",
          "text": [
            "공의 높이를 입력하세요(meter) : 200\n",
            "200m 위치에서 공의 튕긴 횟수는 총 24번입니다.\n"
          ]
        }
      ]
    },
    {
      "cell_type": "code",
      "source": [
        "length = int(input('공의 높이를 입력해주세요(meter) : '))\n",
        "meter = length  # 현재 공의 위치(높이)\n",
        "cnt = 0   #공이 튕긴 횟수\n",
        "while True:\n",
        "  meter = meter / 2\n",
        "  cnt = cnt + 1\n",
        "  print(meter , ' :' , cnt)\n",
        "  if meter <0.00001:\n",
        "    break\n",
        "print(f'{length}m 위치에서 공의 튕긴 횟수는 총 {cnt}번입니다.')"
      ],
      "metadata": {
        "colab": {
          "base_uri": "https://localhost:8080/",
          "height": 412
        },
        "id": "-OidNRmAJkct",
        "outputId": "302232bc-14dd-45e9-edb5-27fcc3e92008"
      },
      "execution_count": 22,
      "outputs": [
        {
          "output_type": "error",
          "ename": "KeyboardInterrupt",
          "evalue": "ignored",
          "traceback": [
            "\u001b[0;31m---------------------------------------------------------------------------\u001b[0m",
            "\u001b[0;31mKeyboardInterrupt\u001b[0m                         Traceback (most recent call last)",
            "\u001b[0;32m<ipython-input-22-e243f7a30152>\u001b[0m in \u001b[0;36m<cell line: 1>\u001b[0;34m()\u001b[0m\n\u001b[0;32m----> 1\u001b[0;31m \u001b[0mlength\u001b[0m \u001b[0;34m=\u001b[0m \u001b[0mint\u001b[0m\u001b[0;34m(\u001b[0m\u001b[0minput\u001b[0m\u001b[0;34m(\u001b[0m\u001b[0;34m'공의 높이를 입력해주세요(meter) : '\u001b[0m\u001b[0;34m)\u001b[0m\u001b[0;34m)\u001b[0m\u001b[0;34m\u001b[0m\u001b[0;34m\u001b[0m\u001b[0m\n\u001b[0m\u001b[1;32m      2\u001b[0m \u001b[0mmeter\u001b[0m \u001b[0;34m=\u001b[0m \u001b[0mlength\u001b[0m  \u001b[0;31m# 현재 공의 위치(높이)\u001b[0m\u001b[0;34m\u001b[0m\u001b[0;34m\u001b[0m\u001b[0m\n\u001b[1;32m      3\u001b[0m \u001b[0mcnt\u001b[0m \u001b[0;34m=\u001b[0m \u001b[0;36m0\u001b[0m   \u001b[0;31m#공이 튕긴 횟수\u001b[0m\u001b[0;34m\u001b[0m\u001b[0;34m\u001b[0m\u001b[0m\n\u001b[1;32m      4\u001b[0m \u001b[0;32mwhile\u001b[0m \u001b[0;32mTrue\u001b[0m\u001b[0;34m:\u001b[0m\u001b[0;34m\u001b[0m\u001b[0;34m\u001b[0m\u001b[0m\n\u001b[1;32m      5\u001b[0m   \u001b[0mmeter\u001b[0m \u001b[0;34m=\u001b[0m \u001b[0mmeter\u001b[0m \u001b[0;34m/\u001b[0m \u001b[0;36m2\u001b[0m\u001b[0;34m\u001b[0m\u001b[0;34m\u001b[0m\u001b[0m\n",
            "\u001b[0;32m/usr/local/lib/python3.10/dist-packages/ipykernel/kernelbase.py\u001b[0m in \u001b[0;36mraw_input\u001b[0;34m(self, prompt)\u001b[0m\n\u001b[1;32m    849\u001b[0m                 \u001b[0;34m\"raw_input was called, but this frontend does not support input requests.\"\u001b[0m\u001b[0;34m\u001b[0m\u001b[0;34m\u001b[0m\u001b[0m\n\u001b[1;32m    850\u001b[0m             )\n\u001b[0;32m--> 851\u001b[0;31m         return self._input_request(str(prompt),\n\u001b[0m\u001b[1;32m    852\u001b[0m             \u001b[0mself\u001b[0m\u001b[0;34m.\u001b[0m\u001b[0m_parent_ident\u001b[0m\u001b[0;34m,\u001b[0m\u001b[0;34m\u001b[0m\u001b[0;34m\u001b[0m\u001b[0m\n\u001b[1;32m    853\u001b[0m             \u001b[0mself\u001b[0m\u001b[0;34m.\u001b[0m\u001b[0m_parent_header\u001b[0m\u001b[0;34m,\u001b[0m\u001b[0;34m\u001b[0m\u001b[0;34m\u001b[0m\u001b[0m\n",
            "\u001b[0;32m/usr/local/lib/python3.10/dist-packages/ipykernel/kernelbase.py\u001b[0m in \u001b[0;36m_input_request\u001b[0;34m(self, prompt, ident, parent, password)\u001b[0m\n\u001b[1;32m    893\u001b[0m             \u001b[0;32mexcept\u001b[0m \u001b[0mKeyboardInterrupt\u001b[0m\u001b[0;34m:\u001b[0m\u001b[0;34m\u001b[0m\u001b[0;34m\u001b[0m\u001b[0m\n\u001b[1;32m    894\u001b[0m                 \u001b[0;31m# re-raise KeyboardInterrupt, to truncate traceback\u001b[0m\u001b[0;34m\u001b[0m\u001b[0;34m\u001b[0m\u001b[0m\n\u001b[0;32m--> 895\u001b[0;31m                 \u001b[0;32mraise\u001b[0m \u001b[0mKeyboardInterrupt\u001b[0m\u001b[0;34m(\u001b[0m\u001b[0;34m\"Interrupted by user\"\u001b[0m\u001b[0;34m)\u001b[0m \u001b[0;32mfrom\u001b[0m \u001b[0;32mNone\u001b[0m\u001b[0;34m\u001b[0m\u001b[0;34m\u001b[0m\u001b[0m\n\u001b[0m\u001b[1;32m    896\u001b[0m             \u001b[0;32mexcept\u001b[0m \u001b[0mException\u001b[0m \u001b[0;32mas\u001b[0m \u001b[0me\u001b[0m\u001b[0;34m:\u001b[0m\u001b[0;34m\u001b[0m\u001b[0;34m\u001b[0m\u001b[0m\n\u001b[1;32m    897\u001b[0m                 \u001b[0mself\u001b[0m\u001b[0;34m.\u001b[0m\u001b[0mlog\u001b[0m\u001b[0;34m.\u001b[0m\u001b[0mwarning\u001b[0m\u001b[0;34m(\u001b[0m\u001b[0;34m\"Invalid Message:\"\u001b[0m\u001b[0;34m,\u001b[0m \u001b[0mexc_info\u001b[0m\u001b[0;34m=\u001b[0m\u001b[0;32mTrue\u001b[0m\u001b[0;34m)\u001b[0m\u001b[0;34m\u001b[0m\u001b[0;34m\u001b[0m\u001b[0m\n",
            "\u001b[0;31mKeyboardInterrupt\u001b[0m: Interrupted by user"
          ]
        }
      ]
    },
    {
      "cell_type": "markdown",
      "source": [
        "### enumerate() : 인덱스와 값을 함께 사용할 수 있는 함수"
      ],
      "metadata": {
        "id": "1sEGmjHULVzx"
      }
    },
    {
      "cell_type": "code",
      "source": [
        " a_list = [3,4,6,8,9]\n",
        " six_index = a_list.index(6)\n",
        " print(f'6이란 값의 인덱스 : {six_index}')\n",
        "\n",
        "for idx, v in enumerate(a_list):\n",
        "  print(f'인덱스: {idx} 값:{v}')"
      ],
      "metadata": {
        "colab": {
          "base_uri": "https://localhost:8080/"
        },
        "id": "HgEz_6MiLcot",
        "outputId": "88f3b722-95c0-4324-9b7a-f05e18c348db"
      },
      "execution_count": 24,
      "outputs": [
        {
          "output_type": "stream",
          "name": "stdout",
          "text": [
            "6이란 값의 인덱스 : 2\n",
            "인덱스: 0 값:3\n",
            "인덱스: 1 값:4\n",
            "인덱스: 2 값:6\n",
            "인덱스: 3 값:8\n",
            "인덱스: 4 값:9\n"
          ]
        }
      ]
    },
    {
      "cell_type": "markdown",
      "source": [
        "## 파이썬 자료형 : List(리스트)"
      ],
      "metadata": {
        "id": "0QfnQ_sJR-0r"
      }
    },
    {
      "cell_type": "code",
      "source": [
        "print(type([1,2,3,4]))"
      ],
      "metadata": {
        "colab": {
          "base_uri": "https://localhost:8080/"
        },
        "id": "Vn59PmdeK2ta",
        "outputId": "3bbb61cf-5a78-458c-dd79-c3be96d5ece3"
      },
      "execution_count": 25,
      "outputs": [
        {
          "output_type": "stream",
          "name": "stdout",
          "text": [
            "<class 'list'>\n"
          ]
        }
      ]
    },
    {
      "cell_type": "code",
      "source": [
        "help(list)"
      ],
      "metadata": {
        "id": "RNnc9kb1SUXt"
      },
      "execution_count": null,
      "outputs": []
    },
    {
      "cell_type": "markdown",
      "source": [
        "#리스트 생성"
      ],
      "metadata": {
        "id": "HYIbvknJTN-l"
      }
    },
    {
      "cell_type": "code",
      "source": [
        "#빈리스트 생성\n",
        "mylist = list()\n",
        "mylist = []\n",
        "\n",
        "#리스트 생성\n",
        "mylist = list(range(1,11)) #[1,2,3,4,5,6,7,8,9,10]\n",
        "mylist"
      ],
      "metadata": {
        "colab": {
          "base_uri": "https://localhost:8080/"
        },
        "id": "vnThC4QXTJ_s",
        "outputId": "0b3f403e-3eac-4177-f41d-9de72168e253"
      },
      "execution_count": 27,
      "outputs": [
        {
          "output_type": "execute_result",
          "data": {
            "text/plain": [
              "[1, 2, 3, 4, 5, 6, 7, 8, 9, 10]"
            ]
          },
          "metadata": {},
          "execution_count": 27
        }
      ]
    },
    {
      "cell_type": "markdown",
      "source": [
        "###리스트 요소(element)에 접근하기"
      ],
      "metadata": {
        "id": "y5pYUn5rT1Un"
      }
    },
    {
      "cell_type": "code",
      "source": [
        "#인덱스 요소에 접근한다.\n",
        "colors = ['red','green','blue','orange','purple']\n",
        "print(f'인덱스 2번의 값(요소)은: {color[2]}')\n",
        "print(color[2:])\n",
        "\n",
        "for color in colors:\n",
        "  print(f'내가 가장 좋아하는 색상은{color}')\n",
        "\n",
        "for idx, color in enumerate(colors):\n",
        "  print(f'내가 좋아하는 색상은 {idx}:{color}!')\n"
      ],
      "metadata": {
        "colab": {
          "base_uri": "https://localhost:8080/"
        },
        "id": "Oky5mV9oT6Ge",
        "outputId": "d660fab5-faa0-4ed8-ac08-70318a643f9e"
      },
      "execution_count": 32,
      "outputs": [
        {
          "output_type": "stream",
          "name": "stdout",
          "text": [
            "인덱스 2번의 값(요소)은: r\n",
            "rple\n",
            "내가 가장 좋아하는 색상은red\n",
            "내가 가장 좋아하는 색상은green\n",
            "내가 가장 좋아하는 색상은blue\n",
            "내가 가장 좋아하는 색상은orange\n",
            "내가 가장 좋아하는 색상은purple\n",
            "내가 좋아하는 색상은 0:red!\n",
            "내가 좋아하는 색상은 1:green!\n",
            "내가 좋아하는 색상은 2:blue!\n",
            "내가 좋아하는 색상은 3:orange!\n",
            "내가 좋아하는 색상은 4:purple!\n"
          ]
        }
      ]
    },
    {
      "cell_type": "code",
      "source": [
        "a=[1,2,3]\n",
        "b=[4,5,6,7]\n",
        "c=a+b\n",
        "print(a+b, len(c))"
      ],
      "metadata": {
        "colab": {
          "base_uri": "https://localhost:8080/"
        },
        "id": "cGZrFso8VnjS",
        "outputId": "c61b40f4-cb16-40b9-a4d9-d1e49ed45d82"
      },
      "execution_count": 34,
      "outputs": [
        {
          "output_type": "stream",
          "name": "stdout",
          "text": [
            "[1, 2, 3, 4, 5, 6, 7] 7\n"
          ]
        }
      ]
    },
    {
      "cell_type": "markdown",
      "source": [
        "###리스트에 요소 추가하기"
      ],
      "metadata": {
        "id": "r9voMaz2WGYI"
      }
    },
    {
      "cell_type": "code",
      "source": [
        "colors = ['red','green','blue','orange','purple']\n",
        "print(colors)\n",
        "\n",
        "#맨 뒤에 추가하기 : append()\n",
        "colors.append('pink')\n",
        "print(colors)\n",
        "\n",
        "#특정 위치에 추가하기: insert() 인덱스가 하나씩 뒤로 밀림\n",
        "colors.insert(2,'white')\n",
        "print(colors)\n"
      ],
      "metadata": {
        "colab": {
          "base_uri": "https://localhost:8080/"
        },
        "id": "ZvdJoQUFWKul",
        "outputId": "aae08ccc-2003-4a5b-8441-89eb4923ab56"
      },
      "execution_count": 36,
      "outputs": [
        {
          "output_type": "stream",
          "name": "stdout",
          "text": [
            "['red', 'green', 'blue', 'orange', 'purple']\n",
            "['red', 'green', 'blue', 'orange', 'purple', 'pink']\n",
            "['red', 'green', 'white', 'blue', 'orange', 'purple', 'pink']\n"
          ]
        }
      ]
    },
    {
      "cell_type": "markdown",
      "source": [
        "###리스트에서 요소 삭제하기"
      ],
      "metadata": {
        "id": "rdLTK0UOXJTc"
      }
    },
    {
      "cell_type": "code",
      "source": [
        "colors = ['red','green','blue','orange','purple']\n",
        "print(colors)\n",
        "\n",
        "#리스트에서 특정요소 삭제하기 : remove(값)\n",
        "colors.remove('orange')\n",
        "print(colors)\n",
        "\n",
        "#리스트에서 맨 뒤 요소 삭제하기 : pop()\n",
        "colors.pop()\n",
        "print(colors)"
      ],
      "metadata": {
        "colab": {
          "base_uri": "https://localhost:8080/"
        },
        "id": "NdjFvmXEXMt2",
        "outputId": "4ce6f760-385b-4f11-acf3-3978858ab7ee"
      },
      "execution_count": 38,
      "outputs": [
        {
          "output_type": "stream",
          "name": "stdout",
          "text": [
            "['red', 'green', 'blue', 'orange', 'purple']\n",
            "['red', 'green', 'blue', 'purple']\n",
            "['red', 'green', 'blue']\n"
          ]
        }
      ]
    },
    {
      "cell_type": "markdown",
      "source": [
        "###리스트 요소 값 변경하기"
      ],
      "metadata": {
        "id": "amx_DJfDX--r"
      }
    },
    {
      "cell_type": "code",
      "source": [
        "colors = ['red','green','blue','orange','purple']\n",
        "print(colors)\n",
        "\n",
        "#인덱스 위치에 해당하는 값을 변경하기(대체하기)\n",
        "colors[2] = 'deepblue'\n",
        "print(colors)\n",
        "\n",
        "colors[2:] = 'deepblue' #주의하기 (for문으로 해야 각 요소를 deepblue로 대체 가능)\n",
        "print(colors)\n",
        "\n"
      ],
      "metadata": {
        "colab": {
          "base_uri": "https://localhost:8080/"
        },
        "id": "Uo7uA0-7YBl_",
        "outputId": "ff370c4c-f97d-4378-8fef-0f6b29bd47e8"
      },
      "execution_count": 40,
      "outputs": [
        {
          "output_type": "stream",
          "name": "stdout",
          "text": [
            "['red', 'green', 'blue', 'orange', 'purple']\n",
            "['red', 'green', 'deepblue', 'orange', 'purple']\n",
            "['red', 'green', 'd', 'e', 'e', 'p', 'b', 'l', 'u', 'e']\n"
          ]
        }
      ]
    },
    {
      "cell_type": "markdown",
      "source": [
        "### 리스트 정렬하기"
      ],
      "metadata": {
        "id": "9y8JTRv_ZThH"
      }
    },
    {
      "cell_type": "code",
      "source": [
        "colors = ['red','green','blue','orange','purple']\n",
        "print(colors)\n",
        "\n",
        "colors.sort(reverse=False)\n",
        "print(colors)\n",
        "\n",
        "colors.sort(reverse=True)\n",
        "print(colors)"
      ],
      "metadata": {
        "colab": {
          "base_uri": "https://localhost:8080/"
        },
        "id": "rz6hxYgGZRU6",
        "outputId": "fd4b16eb-21ab-4d87-bb8f-3b8c7f4bc3b8"
      },
      "execution_count": 43,
      "outputs": [
        {
          "output_type": "stream",
          "name": "stdout",
          "text": [
            "['red', 'green', 'blue', 'orange', 'purple']\n",
            "['blue', 'green', 'orange', 'purple', 'red']\n",
            "['red', 'purple', 'orange', 'green', 'blue']\n"
          ]
        }
      ]
    },
    {
      "cell_type": "code",
      "source": [
        "# 파이썬 기본함수 : 정렬하기 sorted()\n",
        "sorted(colors)"
      ],
      "metadata": {
        "colab": {
          "base_uri": "https://localhost:8080/"
        },
        "id": "bOr4DPoQaIlJ",
        "outputId": "72e5ea65-721b-40d5-9272-372497f1efca"
      },
      "execution_count": 44,
      "outputs": [
        {
          "output_type": "execute_result",
          "data": {
            "text/plain": [
              "['blue', 'green', 'orange', 'purple', 'red']"
            ]
          },
          "metadata": {},
          "execution_count": 44
        }
      ]
    },
    {
      "cell_type": "markdown",
      "source": [
        "### 다차원 리스트 요소 접근"
      ],
      "metadata": {
        "id": "rWP-aXlobT7o"
      }
    },
    {
      "cell_type": "code",
      "source": [
        "numbers = [[1,2,3],[4,5,[6,7,8]],9,10]\n",
        "print(len(numbers))\n",
        "print(len(numbers[0])) #[1,2,3]\n",
        "print(len(numbers[1])) #[4,5,[6,7,8]]\n",
        "print(numbers[0][1]) # 숫자 2에 대한 접근 : 1차원 인덱스 0번, 2차원인덱스 1번\n",
        "print(numbers[1][2][1])\n",
        "print(numbers[1][2][1:]) # 7,8에 대한 접근"
      ],
      "metadata": {
        "colab": {
          "base_uri": "https://localhost:8080/"
        },
        "id": "lLH3wEVmbWcl",
        "outputId": "783f1597-8e87-4c3c-c64a-d7347d8bd433"
      },
      "execution_count": 53,
      "outputs": [
        {
          "output_type": "stream",
          "name": "stdout",
          "text": [
            "4\n",
            "3\n",
            "3\n",
            "2\n",
            "7\n",
            "[7, 8]\n"
          ]
        }
      ]
    },
    {
      "cell_type": "markdown",
      "source": [
        "### [실습문제] 3행 4열 리스트 출력하기"
      ],
      "metadata": {
        "id": "6yLNMrd4fW5F"
      }
    },
    {
      "cell_type": "code",
      "source": [
        "from posixpath import join\n",
        "#mylist=[ [] for i in range(3) ]\n",
        "\n",
        "# mylist = [i for i in range(10)]\n",
        "# mylist=[ [] for i in range(3) ] # 컴프리헨션\n",
        "#mylist = list(range(10))\n",
        "\n",
        "#빈방(2차원리스트)를 준비한다.\n",
        "# mylist = [[] for i in range(3)]\n",
        "# mylist\n",
        "\n",
        "# 각방(2차원 리스트)에 값을 추가한다.\n",
        "value=1\n",
        "mylist = []\n",
        "for i in range(5):\n",
        "  mylist.append([])\n",
        "  for k in range(6):\n",
        "    mylist[i].append(str(value))\n",
        "    value +=1\n",
        "print(mylist)\n",
        "\n",
        "for i in range(3):\n",
        "  print(\" \".join(mylist[i])) # 1 2 3 4\n",
        "\n"
      ],
      "metadata": {
        "colab": {
          "base_uri": "https://localhost:8080/"
        },
        "id": "Cr8cvBiRfSs8",
        "outputId": "788cd72e-f7aa-48c4-ee28-d1a2ce086dd6"
      },
      "execution_count": 73,
      "outputs": [
        {
          "output_type": "stream",
          "name": "stdout",
          "text": [
            "[['1', '2', '3', '4', '5', '6'], ['7', '8', '9', '10', '11', '12'], ['13', '14', '15', '16', '17', '18'], ['19', '20', '21', '22', '23', '24'], ['25', '26', '27', '28', '29', '30']]\n",
            "1 2 3 4 5 6\n",
            "7 8 9 10 11 12\n",
            "13 14 15 16 17 18\n"
          ]
        }
      ]
    },
    {
      "cell_type": "code",
      "source": [
        "def func_sum(x, y):\n",
        "    return 2*x+y\n",
        "print( func_sum(5,10) )    # (5,10)이 튜플형태다"
      ],
      "metadata": {
        "colab": {
          "base_uri": "https://localhost:8080/"
        },
        "id": "iCuY2GgHlcdk",
        "outputId": "d0fe0399-0832-455b-98ac-562848419e0a"
      },
      "execution_count": 74,
      "outputs": [
        {
          "output_type": "stream",
          "name": "stdout",
          "text": [
            "20\n"
          ]
        }
      ]
    }
  ]
}