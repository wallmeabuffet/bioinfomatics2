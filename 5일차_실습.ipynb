{
  "nbformat": 4,
  "nbformat_minor": 0,
  "metadata": {
    "colab": {
      "provenance": [],
      "authorship_tag": "ABX9TyNxoJArFSwioEAJKQ+5BNK7",
      "include_colab_link": true
    },
    "kernelspec": {
      "name": "python3",
      "display_name": "Python 3"
    },
    "language_info": {
      "name": "python"
    }
  },
  "cells": [
    {
      "cell_type": "markdown",
      "metadata": {
        "id": "view-in-github",
        "colab_type": "text"
      },
      "source": [
        "<a href=\"https://colab.research.google.com/github/wallmeabuffet/bioinfomatics2/blob/main/5%EC%9D%BC%EC%B0%A8_%EC%8B%A4%EC%8A%B5.ipynb\" target=\"_parent\"><img src=\"https://colab.research.google.com/assets/colab-badge.svg\" alt=\"Open In Colab\"/></a>"
      ]
    },
    {
      "cell_type": "markdown",
      "source": [
        "#[복습문제] 리스트 사용하기"
      ],
      "metadata": {
        "id": "kR1UdWYnIS0h"
      }
    },
    {
      "cell_type": "code",
      "execution_count": null,
      "metadata": {
        "id": "RTxYlz01H7BX"
      },
      "outputs": [],
      "source": [
        " idols = ['BTS', '뉴진스','세븐틴','블랙핑크','모모랜드']\n",
        " scores = list() # [] 빈 리스트 만들기\n",
        "\n",
        " for idol in idols:\n",
        "  score = float(input(f\"'{idol}'의 성적은:\"))\n",
        "  scores.append(score) #리스트에 요소 추가\n",
        "\n",
        "print('-'*50)\n",
        "print('아이돌 성적 결과')\n",
        "print('-'*50)\n",
        "\n",
        "for idx, idol in enumerate(idols):\n",
        "  if score[idx] >= 80:\n",
        "    result = '수료'\n",
        "  else:\n",
        "    result = '미수료'\n",
        "    print(f\"'{idol}'의 성적은 {scores[idx]}, 결과는: {result}\")"
      ]
    },
    {
      "cell_type": "code",
      "source": [
        "idols = ['BTS', '뉴진스', '세븐틴', '블랙핑크', '모모랜드']\n",
        "scores = list()   # [] 빈 리스트 만들기\n",
        "\n",
        "for idol in idols:\n",
        "    score = float(input(f\"'{idol}'의 성적은?: \"))\n",
        "    scores.append(score)   # 리스트에 요소 추가\n",
        "\n",
        "print('-'*50)\n",
        "print(' 아이돌 성적 결과')\n",
        "print('-'*50)\n",
        "\n",
        "for idx, idol in enumerate(idols):\n",
        "    if scores[idx] >= 80:\n",
        "        result = '수료'\n",
        "    else:\n",
        "        result = '미수료'\n",
        "\n",
        "    print(f\"'{idol}'의 성적은 {scores[idx]}, 결과는: {result}\")"
      ],
      "metadata": {
        "colab": {
          "base_uri": "https://localhost:8080/"
        },
        "id": "o7RPgJKeKWvS",
        "outputId": "4abd369b-f6a2-4fcc-ffbf-26c5f07bf169"
      },
      "execution_count": null,
      "outputs": [
        {
          "output_type": "stream",
          "name": "stdout",
          "text": [
            "'BTS'의 성적은?: 100\n",
            "'뉴진스'의 성적은?: 90\n",
            "'세븐틴'의 성적은?: 99\n",
            "'블랙핑크'의 성적은?: 70\n",
            "'모모랜드'의 성적은?: 80\n",
            "--------------------------------------------------\n",
            " 아이돌 성적 결과\n",
            "--------------------------------------------------\n",
            "'BTS'의 성적은 100.0, 결과는: 수료\n",
            "'뉴진스'의 성적은 90.0, 결과는: 수료\n",
            "'세븐틴'의 성적은 99.0, 결과는: 수료\n",
            "'블랙핑크'의 성적은 70.0, 결과는: 미수료\n",
            "'모모랜드'의 성적은 80.0, 결과는: 수료\n"
          ]
        }
      ]
    },
    {
      "cell_type": "code",
      "source": [
        "# 정렬하기\n",
        "print(sorted(idols))\n",
        "scores.sort()\n",
        "print(scores)\n",
        "scores.sort(reverse=True) #default : reverse=False\n",
        "print(scores)"
      ],
      "metadata": {
        "colab": {
          "base_uri": "https://localhost:8080/"
        },
        "id": "bK4_vPUtKuI2",
        "outputId": "687d81fb-da20-496a-9e0d-79b63ae59d95"
      },
      "execution_count": null,
      "outputs": [
        {
          "output_type": "stream",
          "name": "stdout",
          "text": [
            "['BTS', '뉴진스', '모모랜드', '블랙핑크', '세븐틴']\n",
            "[70.0, 80.0, 90.0, 99.0, 100.0]\n",
            "[100.0, 99.0, 90.0, 80.0, 70.0]\n"
          ]
        }
      ]
    },
    {
      "cell_type": "code",
      "source": [
        "# 특정위치에 요소 추가하기\n",
        "idols.insert(2, '조용필')\n",
        "idols"
      ],
      "metadata": {
        "colab": {
          "base_uri": "https://localhost:8080/"
        },
        "id": "m9Wm7cn_Lgud",
        "outputId": "25e428e3-d9fa-446b-89e2-b7f45c4c1c6f"
      },
      "execution_count": null,
      "outputs": [
        {
          "output_type": "execute_result",
          "data": {
            "text/plain": [
              "['BTS', '뉴진스', '조용필', '세븐틴', '블랙핑크', '모모랜드']"
            ]
          },
          "metadata": {},
          "execution_count": 8
        }
      ]
    },
    {
      "cell_type": "markdown",
      "source": [
        "## 딕셔너리 자료형"
      ],
      "metadata": {
        "id": "rKSs1rrJN9zp"
      }
    },
    {
      "cell_type": "code",
      "source": [
        "scores = dict() # {}: 빈 딕셔너리 만들기\n",
        "scores = {'국어':100, '영어':90, '수학':80 ,  '사회':90, '과학':100}\n",
        "print(type(scores),scores)\n",
        "\n",
        "#키와 값을 출력하는 방법1\n",
        "for key in scores:\n",
        "  print(f'키:{key}, 값:{scores[key]:>3}')\n",
        "\n"
      ],
      "metadata": {
        "colab": {
          "base_uri": "https://localhost:8080/"
        },
        "id": "0NC_FshmOBAF",
        "outputId": "c0c48a4e-473a-42db-b11f-948f79992f85"
      },
      "execution_count": null,
      "outputs": [
        {
          "output_type": "stream",
          "name": "stdout",
          "text": [
            "<class 'dict'> {'국어': 100, '영어': 90, '수학': 80, '사회': 90, '과학': 100}\n",
            "키:국어, 값:100\n",
            "키:영어, 값: 90\n",
            "키:수학, 값: 80\n",
            "키:사회, 값: 90\n",
            "키:과학, 값:100\n"
          ]
        }
      ]
    },
    {
      "cell_type": "code",
      "source": [
        "#딕셔너리에서 키만 출력 : 리스트 구조로\n",
        "print(scores.keys())\n",
        "for key in scores.keys():\n",
        "  print(key, end=',')\n",
        "\n",
        "#딕셔너리에서 값만 출력\n",
        "print(scores.values())\n",
        "\n",
        "#딕셔너리에서 (키,값) 출력 :튜플 형태로 구성\n",
        "print(scores.items())"
      ],
      "metadata": {
        "colab": {
          "base_uri": "https://localhost:8080/"
        },
        "id": "qRRw4XroPKGB",
        "outputId": "8f7f775e-6987-4837-8aa3-f664d0cd8cf1"
      },
      "execution_count": null,
      "outputs": [
        {
          "output_type": "stream",
          "name": "stdout",
          "text": [
            "dict_keys(['국어', '영어', '수학', '사회', '과학'])\n",
            "국어,영어,수학,사회,과학,dict_values([100, 90, 80, 90, 100])\n",
            "dict_items([('국어', 100), ('영어', 90), ('수학', 80), ('사회', 90), ('과학', 100)])\n"
          ]
        }
      ]
    },
    {
      "cell_type": "code",
      "source": [
        "#키와 값을 출력하는 방법2\n",
        "for (key, value) in scores.items():        # (key,value)에서 괄호 안써도 되고 써도 됨\n",
        "  print(f'키:{key}, 값:{value}')"
      ],
      "metadata": {
        "colab": {
          "base_uri": "https://localhost:8080/"
        },
        "id": "-tnbwPwrQi3I",
        "outputId": "29dbfc1b-b3c8-4849-9bef-e6fd73190514"
      },
      "execution_count": null,
      "outputs": [
        {
          "output_type": "stream",
          "name": "stdout",
          "text": [
            "키:국어, 값:100\n",
            "키:영어, 값: 90\n",
            "키:수학, 값: 80\n",
            "키:사회, 값: 90\n",
            "키:과학, 값:100\n"
          ]
        }
      ]
    },
    {
      "cell_type": "code",
      "source": [
        "# 두 개의 딕셔너리 합치기\n",
        "arts = {'미술' : 100 , '음악':99}\n",
        "scores.update(arts)\n",
        "print(scores)"
      ],
      "metadata": {
        "colab": {
          "base_uri": "https://localhost:8080/"
        },
        "id": "glokWzWNRl2U",
        "outputId": "f1cfe8fd-ee49-42e0-d000-17f0f627ba57"
      },
      "execution_count": null,
      "outputs": [
        {
          "output_type": "stream",
          "name": "stdout",
          "text": [
            "{'국어': 100, '영어': 90, '수학': 80, '사회': 90, '과학': 100, '미술': 100, '음악': 99}\n"
          ]
        }
      ]
    },
    {
      "cell_type": "markdown",
      "source": [
        "###[실습문제] 딕셔너리 이용하기"
      ],
      "metadata": {
        "id": "3uY-WI83SKFj"
      }
    },
    {
      "cell_type": "code",
      "source": [
        " idols = ['BTS', '뉴진스','세븐틴','블랙핑크','모모랜드']\n",
        " scores = {} #빈 딕셔너리 만들기\n",
        "\n",
        " for idol in idols:\n",
        "  scores[idol] = int(input(f\"'{idol}'의 성적은?: \"))\n",
        " print(scores)\n",
        " print('------------------------')\n",
        " print(f'성적합계:{sum(scores.values())} 평균:{sum(scores.values())/len(scores)}')"
      ],
      "metadata": {
        "colab": {
          "base_uri": "https://localhost:8080/"
        },
        "id": "9G4mhaEER9J9",
        "outputId": "66db3e38-d589-477a-f208-5ae9a28ae9d8"
      },
      "execution_count": null,
      "outputs": [
        {
          "output_type": "stream",
          "name": "stdout",
          "text": [
            "'BTS'의 성적은?: 100\n",
            "'뉴진스'의 성적은?: 90\n",
            "'세븐틴'의 성적은?: 95\n",
            "'블랙핑크'의 성적은?: 100\n",
            "'모모랜드'의 성적은?: 80\n",
            "{'BTS': 100, '뉴진스': 90, '세븐틴': 95, '블랙핑크': 100, '모모랜드': 80}\n",
            "------------------------\n",
            "성적합계:465 평균:93.0\n"
          ]
        }
      ]
    },
    {
      "cell_type": "markdown",
      "source": [
        "###[실습문제] 딕셔너리 이용해서 영어단어장 만들기"
      ],
      "metadata": {
        "id": "iqDaC8AsTpx_"
      }
    },
    {
      "cell_type": "code",
      "source": [
        "\n",
        "menu_key = ''' 1. 단어등록\n",
        " 2.단어검색\n",
        " 3.모든단어보기\n",
        " 0.종료하기 '''\n",
        "\n",
        "print('---선택메뉴---')\n",
        "print(menu_key)\n",
        "print('-'*30)\n",
        "\n",
        "while True:\n",
        "  print(input())\n"
      ],
      "metadata": {
        "colab": {
          "base_uri": "https://localhost:8080/"
        },
        "id": "kMspDpXZVbwi",
        "outputId": "7c7f9bf8-2efb-4d60-853a-6b2194a48e2e"
      },
      "execution_count": null,
      "outputs": [
        {
          "output_type": "stream",
          "name": "stdout",
          "text": [
            "---선택메뉴---\n",
            " 1. 단어등록 \n",
            " 2.단어검색 \n",
            " 3.모든단어보기 \n",
            " 0.종료하기 \n",
            "------------------------------\n"
          ]
        }
      ]
    },
    {
      "cell_type": "code",
      "source": [
        "menu = '''---선택메뉴---\n",
        "1.단어등록\n",
        "2.단어검색\n",
        "3.모든단어보여주기\n",
        "0.종료하기\n",
        "----------------------------'''\n",
        "wordbook = {}\n",
        "\n",
        "while True:\n",
        "  select = input(menu+'\\n메뉴선택: \\n' )\n",
        "  if select =='0' : break #0.종료하기\n",
        "  elif select =='1':    #1.단어등록\n",
        "    word = input('새로운 단어 입력: ')\n",
        "    wordbook[word] = input(f'{word}의 뜻은: ')\n",
        "  elif  select =='2':            #2.단어검색\n",
        "    word = input('검색할 단어 입력: ')\n",
        "    if word in wordbook:\n",
        "      print(f'{word}의 뜻은 {wordbook[word]}')\n",
        "    else:\n",
        "      print(f'{word}는 미등록 단어입니다')\n",
        "  elif select == '3' :   # 3. 모든단어보여주기\n",
        "    for key, value in wordbook.items():\n",
        "      print({f'{key} : {value}'})\n",
        "    if len(wordbook) == 0 :\n",
        "      print('단어장에 등록된 단어가 없습니다!')\n",
        "\n",
        "print('영어 단어장 프로그램이 종료되었습니다')\n",
        "\n"
      ],
      "metadata": {
        "id": "WzxbaWhLYTkK",
        "colab": {
          "base_uri": "https://localhost:8080/"
        },
        "outputId": "c74ad855-e9b8-4cb5-d970-d10a2045f7dc"
      },
      "execution_count": null,
      "outputs": [
        {
          "output_type": "stream",
          "name": "stdout",
          "text": [
            "---선택메뉴---\n",
            "1.단어등록\n",
            "2.단어검색\n",
            "3.모든단어보여주기\n",
            "0.종료하기\n",
            "----------------------------\n",
            "메뉴선택: \n",
            "1\n",
            "새로운 단어 입력: super\n",
            "super의 뜻은: 최고\n",
            "---선택메뉴---\n",
            "1.단어등록\n",
            "2.단어검색\n",
            "3.모든단어보여주기\n",
            "0.종료하기\n",
            "----------------------------\n",
            "메뉴선택: \n",
            "3\n",
            "{'super : 최고'}\n",
            "---선택메뉴---\n",
            "1.단어등록\n",
            "2.단어검색\n",
            "3.모든단어보여주기\n",
            "0.종료하기\n",
            "----------------------------\n",
            "메뉴선택: \n",
            "0\n",
            "영어 단어장 프로그램이 종료되었습니다\n"
          ]
        }
      ]
    },
    {
      "cell_type": "code",
      "source": [
        "menu = '''---선택메뉴---\n",
        " 1. 단어 등록\n",
        " 2. 단어 검색\n",
        " 3. 모든 단어 보여주기\n",
        " 0. 종료하기\n",
        "------------------------'''\n",
        "wordbook = {}\n",
        "while True:\n",
        "    select = input(menu+'\\n메뉴 선택: ')\n",
        "    if select == '0':       # 0. 종료하기\n",
        "        break\n",
        "    elif select == '1':     # 1. 단어 등록\n",
        "        word = input('영어 단어 입력: ')\n",
        "        wordbook[word] = input(f'{word}의 뜻은: ')\n",
        "\n",
        "    elif select == '2':     # 2. 단어 검색\n",
        "        word = input('검색할 단어 입력: ')\n",
        "        if word in wordbook : # 단어장에 해당 단어가 있을 경우\n",
        "            print(f'{word}의 뜻은 {wordbook[word]}')\n",
        "        else:\n",
        "            print(f'{word}는 미 등록 단어입니다.')\n",
        "\n",
        "    elif select == '3':     # 3. 모든 단어 보여주기\n",
        "        for key, value in wordbook.items():\n",
        "            print(f'{key} : {value}')\n",
        "        if len(wordbook) == 0:\n",
        "            print('단어장에 등록된 단어가 없습니다.')\n",
        "\n",
        "print('영어 단어장 프로그램이 종료되었습니다')"
      ],
      "metadata": {
        "id": "NDjOTwdUcbqn",
        "colab": {
          "base_uri": "https://localhost:8080/"
        },
        "outputId": "749499d8-1ff7-4fbf-a20b-689cffaecf93"
      },
      "execution_count": null,
      "outputs": [
        {
          "output_type": "stream",
          "name": "stdout",
          "text": [
            "---선택메뉴---\n",
            " 1. 단어 등록\n",
            " 2. 단어 검색\n",
            " 3. 모든 단어 보여주기\n",
            " 0. 종료하기\n",
            "------------------------\n",
            "메뉴 선택: 0\n",
            "영어 단어장 프로그램이 종료되었습니다\n"
          ]
        }
      ]
    },
    {
      "cell_type": "markdown",
      "source": [
        "## 리스트 컴프리헨션"
      ],
      "metadata": {
        "id": "3-qQ85ZwlrYz"
      }
    },
    {
      "cell_type": "code",
      "source": [
        "#1~20에서 3의 배수만 리스트로 만들기\n",
        "numbers = []\n",
        "for num in range(1,21):\n",
        "  if num%3==0:\n",
        "    numbers.append(num)\n",
        "print(numbers)"
      ],
      "metadata": {
        "colab": {
          "base_uri": "https://localhost:8080/"
        },
        "id": "X0tqKplulwu8",
        "outputId": "de3d015a-3861-434c-8442-7ec998c6969d"
      },
      "execution_count": null,
      "outputs": [
        {
          "output_type": "stream",
          "name": "stdout",
          "text": [
            "[3, 6, 9, 12, 15, 18]\n"
          ]
        }
      ]
    },
    {
      "cell_type": "code",
      "source": [
        "#리스트 컴프리헨션으로 만들기 (한 줄로 완성하기!)\n",
        "numbers = [num for num in range(1,21) if num%3==0]\n",
        "print(numbers)\n",
        "numbers = [num*2 for num in range(1,21) if num%3==0]\n",
        "print(numbers)\n"
      ],
      "metadata": {
        "colab": {
          "base_uri": "https://localhost:8080/"
        },
        "id": "8_8fyCPumNMG",
        "outputId": "ed90a43a-4050-4876-8122-5e2f96949de3"
      },
      "execution_count": null,
      "outputs": [
        {
          "output_type": "stream",
          "name": "stdout",
          "text": [
            "[3, 6, 9, 12, 15, 18]\n",
            "[6, 12, 18, 24, 30, 36]\n"
          ]
        }
      ]
    },
    {
      "cell_type": "code",
      "source": [],
      "metadata": {
        "id": "SR8onVzttssf"
      },
      "execution_count": null,
      "outputs": []
    }
  ]
}